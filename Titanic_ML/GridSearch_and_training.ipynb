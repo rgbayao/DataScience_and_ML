{
 "cells": [
  {
   "cell_type": "code",
   "execution_count": 1,
   "id": "e9cccb1f",
   "metadata": {},
   "outputs": [],
   "source": [
    "import pandas as pd\n",
    "import numpy as np"
   ]
  },
  {
   "cell_type": "code",
   "execution_count": 2,
   "id": "40e3781b",
   "metadata": {},
   "outputs": [],
   "source": [
    "def fill_age_with_meanstd(target, base):\n",
    "    mean = base['Age'].mean()\n",
    "    std = base['Age'].std()\n",
    "    ammount = target['Age'].isna().sum()\n",
    "    replace = np.random.randint(mean-std, mean+std, size =ammount)\n",
    "    \n",
    "    new_age = []\n",
    "    it = iter(replace)\n",
    "    for i in target['Age']:\n",
    "        if np.isnan(i):\n",
    "            new_age.append(next(it))\n",
    "        else:\n",
    "            new_age.append(i)\n",
    "    target['Age'] = new_age"
   ]
  },
  {
   "cell_type": "code",
   "execution_count": 3,
   "id": "b34eda33",
   "metadata": {},
   "outputs": [],
   "source": [
    "def fill_fare_with_meanstd(target, base):\n",
    "    mean = base['Fare'].mean()\n",
    "    std = base['Fare'].std()\n",
    "    ammount = target['Fare'].isna().sum()\n",
    "    replace = np.random.randint(mean-std, mean+std, size =ammount)\n",
    "    \n",
    "    new_age = []\n",
    "    it = iter(replace)\n",
    "    for i in target['Fare']:\n",
    "        if np.isnan(i):\n",
    "            new_age.append(next(it))\n",
    "        else:\n",
    "            new_age.append(i)\n",
    "    target['Fare'] = new_age"
   ]
  },
  {
   "cell_type": "code",
   "execution_count": 4,
   "id": "ab78a248",
   "metadata": {},
   "outputs": [],
   "source": [
    "def make_pclass_age_column(data):\n",
    "    data['pclass_age'] = pd.cut(data['Age'], bins=[*range(0,81,5)],labels=[*range(0,16,1)])\n",
    "    pclass_age = []\n",
    "    for index, row in data.iterrows():  \n",
    "        pclass_age.append(row['pclass_age'] * row['Pclass'])\n",
    "\n",
    "\n",
    "    data['pclass_age'] = pclass_age\n",
    "    data['pclass_age'] = data['pclass_age'].astype(int)"
   ]
  },
  {
   "cell_type": "code",
   "execution_count": 5,
   "id": "80cb711a",
   "metadata": {},
   "outputs": [],
   "source": [
    "data = pd.read_csv('train.csv')"
   ]
  },
  {
   "cell_type": "code",
   "execution_count": 6,
   "id": "3bf17c2b",
   "metadata": {},
   "outputs": [
    {
     "name": "stdout",
     "output_type": "stream",
     "text": [
      "<class 'pandas.core.frame.DataFrame'>\n",
      "RangeIndex: 891 entries, 0 to 890\n",
      "Data columns (total 12 columns):\n",
      " #   Column       Non-Null Count  Dtype  \n",
      "---  ------       --------------  -----  \n",
      " 0   PassengerId  891 non-null    int64  \n",
      " 1   Survived     891 non-null    int64  \n",
      " 2   Pclass       891 non-null    int64  \n",
      " 3   Name         891 non-null    object \n",
      " 4   Sex          891 non-null    object \n",
      " 5   Age          714 non-null    float64\n",
      " 6   SibSp        891 non-null    int64  \n",
      " 7   Parch        891 non-null    int64  \n",
      " 8   Ticket       891 non-null    object \n",
      " 9   Fare         891 non-null    float64\n",
      " 10  Cabin        204 non-null    object \n",
      " 11  Embarked     889 non-null    object \n",
      "dtypes: float64(2), int64(5), object(5)\n",
      "memory usage: 83.7+ KB\n"
     ]
    }
   ],
   "source": [
    "data.info()"
   ]
  },
  {
   "cell_type": "code",
   "execution_count": 7,
   "id": "39772767",
   "metadata": {},
   "outputs": [],
   "source": [
    "target = data['Survived']"
   ]
  },
  {
   "cell_type": "code",
   "execution_count": 8,
   "id": "80cd4a90",
   "metadata": {},
   "outputs": [],
   "source": [
    "data.drop(['PassengerId','Name','Parch','Ticket','Cabin','Embarked','Survived'], axis=1, inplace=True)"
   ]
  },
  {
   "cell_type": "code",
   "execution_count": 9,
   "id": "f1f4483b",
   "metadata": {},
   "outputs": [
    {
     "name": "stdout",
     "output_type": "stream",
     "text": [
      "<class 'pandas.core.frame.DataFrame'>\n",
      "RangeIndex: 891 entries, 0 to 890\n",
      "Data columns (total 5 columns):\n",
      " #   Column  Non-Null Count  Dtype  \n",
      "---  ------  --------------  -----  \n",
      " 0   Pclass  891 non-null    int64  \n",
      " 1   Sex     891 non-null    object \n",
      " 2   Age     714 non-null    float64\n",
      " 3   SibSp   891 non-null    int64  \n",
      " 4   Fare    891 non-null    float64\n",
      "dtypes: float64(2), int64(2), object(1)\n",
      "memory usage: 34.9+ KB\n"
     ]
    }
   ],
   "source": [
    "data.info()"
   ]
  },
  {
   "cell_type": "code",
   "execution_count": 10,
   "id": "179b646f",
   "metadata": {},
   "outputs": [],
   "source": [
    "fill_age_with_meanstd(data,data)"
   ]
  },
  {
   "cell_type": "code",
   "execution_count": 11,
   "id": "3c267cfd",
   "metadata": {},
   "outputs": [],
   "source": [
    "make_pclass_age_column(data)"
   ]
  },
  {
   "cell_type": "code",
   "execution_count": 12,
   "id": "db3e2453",
   "metadata": {},
   "outputs": [
    {
     "name": "stdout",
     "output_type": "stream",
     "text": [
      "<class 'pandas.core.frame.DataFrame'>\n",
      "RangeIndex: 891 entries, 0 to 890\n",
      "Data columns (total 6 columns):\n",
      " #   Column      Non-Null Count  Dtype  \n",
      "---  ------      --------------  -----  \n",
      " 0   Pclass      891 non-null    int64  \n",
      " 1   Sex         891 non-null    object \n",
      " 2   Age         891 non-null    float64\n",
      " 3   SibSp       891 non-null    int64  \n",
      " 4   Fare        891 non-null    float64\n",
      " 5   pclass_age  891 non-null    int64  \n",
      "dtypes: float64(2), int64(3), object(1)\n",
      "memory usage: 41.9+ KB\n"
     ]
    }
   ],
   "source": [
    "data.info()"
   ]
  },
  {
   "cell_type": "code",
   "execution_count": 13,
   "id": "d960d0a4",
   "metadata": {},
   "outputs": [],
   "source": [
    "from sklearn.preprocessing import StandardScaler"
   ]
  },
  {
   "cell_type": "code",
   "execution_count": 14,
   "id": "e0e7d2be",
   "metadata": {},
   "outputs": [],
   "source": [
    "ss = StandardScaler()\n",
    "ss.fit(data.loc[:,['Age', 'Fare','pclass_age']])\n",
    "data.loc[:,['Age', 'Fare','pclass_age']] = ss.transform(data.loc[:,['Age', 'Fare','pclass_age']])"
   ]
  },
  {
   "cell_type": "code",
   "execution_count": 15,
   "id": "0a28342a",
   "metadata": {},
   "outputs": [],
   "source": [
    "data['Sex'] = data['Sex'].apply(lambda x: 1 if x=='female' else 0)"
   ]
  },
  {
   "cell_type": "code",
   "execution_count": 16,
   "id": "a181e247",
   "metadata": {},
   "outputs": [
    {
     "data": {
      "text/html": [
       "<div>\n",
       "<style scoped>\n",
       "    .dataframe tbody tr th:only-of-type {\n",
       "        vertical-align: middle;\n",
       "    }\n",
       "\n",
       "    .dataframe tbody tr th {\n",
       "        vertical-align: top;\n",
       "    }\n",
       "\n",
       "    .dataframe thead th {\n",
       "        text-align: right;\n",
       "    }\n",
       "</style>\n",
       "<table border=\"1\" class=\"dataframe\">\n",
       "  <thead>\n",
       "    <tr style=\"text-align: right;\">\n",
       "      <th></th>\n",
       "      <th>Pclass</th>\n",
       "      <th>Sex</th>\n",
       "      <th>Age</th>\n",
       "      <th>SibSp</th>\n",
       "      <th>Fare</th>\n",
       "      <th>pclass_age</th>\n",
       "    </tr>\n",
       "  </thead>\n",
       "  <tbody>\n",
       "    <tr>\n",
       "      <th>0</th>\n",
       "      <td>3</td>\n",
       "      <td>0</td>\n",
       "      <td>-0.546436</td>\n",
       "      <td>1</td>\n",
       "      <td>-0.502445</td>\n",
       "      <td>0.083757</td>\n",
       "    </tr>\n",
       "    <tr>\n",
       "      <th>1</th>\n",
       "      <td>1</td>\n",
       "      <td>1</td>\n",
       "      <td>0.638503</td>\n",
       "      <td>1</td>\n",
       "      <td>0.786845</td>\n",
       "      <td>-0.677747</td>\n",
       "    </tr>\n",
       "    <tr>\n",
       "      <th>2</th>\n",
       "      <td>3</td>\n",
       "      <td>1</td>\n",
       "      <td>-0.250201</td>\n",
       "      <td>0</td>\n",
       "      <td>-0.488854</td>\n",
       "      <td>0.540660</td>\n",
       "    </tr>\n",
       "    <tr>\n",
       "      <th>3</th>\n",
       "      <td>1</td>\n",
       "      <td>1</td>\n",
       "      <td>0.416327</td>\n",
       "      <td>1</td>\n",
       "      <td>0.420730</td>\n",
       "      <td>-0.830048</td>\n",
       "    </tr>\n",
       "    <tr>\n",
       "      <th>4</th>\n",
       "      <td>3</td>\n",
       "      <td>0</td>\n",
       "      <td>0.416327</td>\n",
       "      <td>0</td>\n",
       "      <td>-0.486337</td>\n",
       "      <td>0.997562</td>\n",
       "    </tr>\n",
       "  </tbody>\n",
       "</table>\n",
       "</div>"
      ],
      "text/plain": [
       "   Pclass  Sex       Age  SibSp      Fare  pclass_age\n",
       "0       3    0 -0.546436      1 -0.502445    0.083757\n",
       "1       1    1  0.638503      1  0.786845   -0.677747\n",
       "2       3    1 -0.250201      0 -0.488854    0.540660\n",
       "3       1    1  0.416327      1  0.420730   -0.830048\n",
       "4       3    0  0.416327      0 -0.486337    0.997562"
      ]
     },
     "execution_count": 16,
     "metadata": {},
     "output_type": "execute_result"
    }
   ],
   "source": [
    "data.head()"
   ]
  },
  {
   "cell_type": "code",
   "execution_count": 17,
   "id": "ec8dc212",
   "metadata": {},
   "outputs": [],
   "source": [
    "from sklearn.model_selection import GridSearchCV\n",
    "from sklearn.svm import SVC\n",
    "from sklearn.ensemble import RandomForestClassifier"
   ]
  },
  {
   "cell_type": "code",
   "execution_count": 18,
   "id": "94778bc0",
   "metadata": {},
   "outputs": [],
   "source": [
    "svc = SVC()"
   ]
  },
  {
   "cell_type": "code",
   "execution_count": 19,
   "id": "176a448c",
   "metadata": {},
   "outputs": [],
   "source": [
    "parameters_SVC = {'C':[1,10,100], 'kernel':['rbf', 'linear'], 'gamma':['scale','auto']}"
   ]
  },
  {
   "cell_type": "code",
   "execution_count": 20,
   "id": "ed1decba",
   "metadata": {},
   "outputs": [],
   "source": [
    "gscv_SVC = GridSearchCV(svc, parameters_SVC,scoring='accuracy',verbose=2)"
   ]
  },
  {
   "cell_type": "code",
   "execution_count": 21,
   "id": "9d0f4121",
   "metadata": {},
   "outputs": [
    {
     "name": "stdout",
     "output_type": "stream",
     "text": [
      "Fitting 5 folds for each of 12 candidates, totalling 60 fits\n",
      "[CV] END .......................C=1, gamma=scale, kernel=rbf; total time=   0.0s\n",
      "[CV] END .......................C=1, gamma=scale, kernel=rbf; total time=   0.0s\n",
      "[CV] END .......................C=1, gamma=scale, kernel=rbf; total time=   0.0s\n",
      "[CV] END .......................C=1, gamma=scale, kernel=rbf; total time=   0.0s\n",
      "[CV] END .......................C=1, gamma=scale, kernel=rbf; total time=   0.0s\n",
      "[CV] END ....................C=1, gamma=scale, kernel=linear; total time=   0.0s\n",
      "[CV] END ....................C=1, gamma=scale, kernel=linear; total time=   0.0s\n",
      "[CV] END ....................C=1, gamma=scale, kernel=linear; total time=   0.0s\n",
      "[CV] END ....................C=1, gamma=scale, kernel=linear; total time=   0.0s\n",
      "[CV] END ....................C=1, gamma=scale, kernel=linear; total time=   0.0s\n",
      "[CV] END ........................C=1, gamma=auto, kernel=rbf; total time=   0.0s\n",
      "[CV] END ........................C=1, gamma=auto, kernel=rbf; total time=   0.0s\n",
      "[CV] END ........................C=1, gamma=auto, kernel=rbf; total time=   0.0s\n",
      "[CV] END ........................C=1, gamma=auto, kernel=rbf; total time=   0.0s\n",
      "[CV] END ........................C=1, gamma=auto, kernel=rbf; total time=   0.0s\n",
      "[CV] END .....................C=1, gamma=auto, kernel=linear; total time=   0.0s\n",
      "[CV] END .....................C=1, gamma=auto, kernel=linear; total time=   0.0s\n",
      "[CV] END .....................C=1, gamma=auto, kernel=linear; total time=   0.0s\n",
      "[CV] END .....................C=1, gamma=auto, kernel=linear; total time=   0.0s\n",
      "[CV] END .....................C=1, gamma=auto, kernel=linear; total time=   0.0s\n",
      "[CV] END ......................C=10, gamma=scale, kernel=rbf; total time=   0.0s\n",
      "[CV] END ......................C=10, gamma=scale, kernel=rbf; total time=   0.0s\n",
      "[CV] END ......................C=10, gamma=scale, kernel=rbf; total time=   0.0s\n",
      "[CV] END ......................C=10, gamma=scale, kernel=rbf; total time=   0.0s\n",
      "[CV] END ......................C=10, gamma=scale, kernel=rbf; total time=   0.0s\n",
      "[CV] END ...................C=10, gamma=scale, kernel=linear; total time=   0.0s\n",
      "[CV] END ...................C=10, gamma=scale, kernel=linear; total time=   0.0s\n",
      "[CV] END ...................C=10, gamma=scale, kernel=linear; total time=   0.1s\n",
      "[CV] END ...................C=10, gamma=scale, kernel=linear; total time=   0.0s\n",
      "[CV] END ...................C=10, gamma=scale, kernel=linear; total time=   0.0s\n",
      "[CV] END .......................C=10, gamma=auto, kernel=rbf; total time=   0.0s\n",
      "[CV] END .......................C=10, gamma=auto, kernel=rbf; total time=   0.0s\n",
      "[CV] END .......................C=10, gamma=auto, kernel=rbf; total time=   0.0s\n",
      "[CV] END .......................C=10, gamma=auto, kernel=rbf; total time=   0.0s\n",
      "[CV] END .......................C=10, gamma=auto, kernel=rbf; total time=   0.0s\n",
      "[CV] END ....................C=10, gamma=auto, kernel=linear; total time=   0.0s\n",
      "[CV] END ....................C=10, gamma=auto, kernel=linear; total time=   0.1s\n",
      "[CV] END ....................C=10, gamma=auto, kernel=linear; total time=   0.1s\n",
      "[CV] END ....................C=10, gamma=auto, kernel=linear; total time=   0.0s\n",
      "[CV] END ....................C=10, gamma=auto, kernel=linear; total time=   0.0s\n",
      "[CV] END .....................C=100, gamma=scale, kernel=rbf; total time=   0.1s\n",
      "[CV] END .....................C=100, gamma=scale, kernel=rbf; total time=   0.0s\n",
      "[CV] END .....................C=100, gamma=scale, kernel=rbf; total time=   0.1s\n",
      "[CV] END .....................C=100, gamma=scale, kernel=rbf; total time=   0.0s\n",
      "[CV] END .....................C=100, gamma=scale, kernel=rbf; total time=   0.0s\n",
      "[CV] END ..................C=100, gamma=scale, kernel=linear; total time=   7.0s\n",
      "[CV] END ..................C=100, gamma=scale, kernel=linear; total time=   5.9s\n",
      "[CV] END ..................C=100, gamma=scale, kernel=linear; total time=   3.8s\n",
      "[CV] END ..................C=100, gamma=scale, kernel=linear; total time=   8.8s\n",
      "[CV] END ..................C=100, gamma=scale, kernel=linear; total time=   4.9s\n",
      "[CV] END ......................C=100, gamma=auto, kernel=rbf; total time=   0.1s\n",
      "[CV] END ......................C=100, gamma=auto, kernel=rbf; total time=   0.0s\n",
      "[CV] END ......................C=100, gamma=auto, kernel=rbf; total time=   0.1s\n",
      "[CV] END ......................C=100, gamma=auto, kernel=rbf; total time=   0.1s\n",
      "[CV] END ......................C=100, gamma=auto, kernel=rbf; total time=   0.1s\n",
      "[CV] END ...................C=100, gamma=auto, kernel=linear; total time=   7.4s\n",
      "[CV] END ...................C=100, gamma=auto, kernel=linear; total time=   5.7s\n",
      "[CV] END ...................C=100, gamma=auto, kernel=linear; total time=   3.6s\n",
      "[CV] END ...................C=100, gamma=auto, kernel=linear; total time=   9.0s\n",
      "[CV] END ...................C=100, gamma=auto, kernel=linear; total time=   4.8s\n"
     ]
    },
    {
     "data": {
      "text/plain": [
       "GridSearchCV(estimator=SVC(),\n",
       "             param_grid={'C': [1, 10, 100], 'gamma': ['scale', 'auto'],\n",
       "                         'kernel': ['rbf', 'linear']},\n",
       "             scoring='accuracy', verbose=2)"
      ]
     },
     "execution_count": 21,
     "metadata": {},
     "output_type": "execute_result"
    }
   ],
   "source": [
    "gscv_SVC.fit(data, target)"
   ]
  },
  {
   "cell_type": "code",
   "execution_count": 22,
   "id": "41149610",
   "metadata": {},
   "outputs": [
    {
     "data": {
      "text/plain": [
       "{'C': 1, 'gamma': 'scale', 'kernel': 'rbf'}"
      ]
     },
     "execution_count": 22,
     "metadata": {},
     "output_type": "execute_result"
    }
   ],
   "source": [
    "gscv_SVC.best_params_"
   ]
  },
  {
   "cell_type": "code",
   "execution_count": 23,
   "id": "4f0a3898",
   "metadata": {},
   "outputs": [
    {
     "data": {
      "text/plain": [
       "0.8159186491745652"
      ]
     },
     "execution_count": 23,
     "metadata": {},
     "output_type": "execute_result"
    }
   ],
   "source": [
    "gscv_SVC.best_score_"
   ]
  },
  {
   "cell_type": "code",
   "execution_count": 24,
   "id": "cb20e239",
   "metadata": {},
   "outputs": [],
   "source": [
    "forest = RandomForestClassifier()"
   ]
  },
  {
   "cell_type": "code",
   "execution_count": 25,
   "id": "605d135b",
   "metadata": {},
   "outputs": [],
   "source": [
    "parameters_forest = {'n_estimators': [10,100,1000],'criterion': ['gini', 'entropy'],'max_depth':[None, 5, 10]}"
   ]
  },
  {
   "cell_type": "code",
   "execution_count": 26,
   "id": "1bf93b2f",
   "metadata": {},
   "outputs": [],
   "source": [
    "gscv_forest = GridSearchCV(forest, parameters_forest,scoring='accuracy',verbose=2)"
   ]
  },
  {
   "cell_type": "code",
   "execution_count": 27,
   "id": "764b948a",
   "metadata": {},
   "outputs": [
    {
     "name": "stdout",
     "output_type": "stream",
     "text": [
      "Fitting 5 folds for each of 18 candidates, totalling 90 fits\n",
      "[CV] END ....criterion=gini, max_depth=None, n_estimators=10; total time=   0.0s\n",
      "[CV] END ....criterion=gini, max_depth=None, n_estimators=10; total time=   0.0s\n",
      "[CV] END ....criterion=gini, max_depth=None, n_estimators=10; total time=   0.0s\n",
      "[CV] END ....criterion=gini, max_depth=None, n_estimators=10; total time=   0.0s\n",
      "[CV] END ....criterion=gini, max_depth=None, n_estimators=10; total time=   0.0s\n",
      "[CV] END ...criterion=gini, max_depth=None, n_estimators=100; total time=   0.2s\n",
      "[CV] END ...criterion=gini, max_depth=None, n_estimators=100; total time=   0.2s\n",
      "[CV] END ...criterion=gini, max_depth=None, n_estimators=100; total time=   0.2s\n",
      "[CV] END ...criterion=gini, max_depth=None, n_estimators=100; total time=   0.2s\n",
      "[CV] END ...criterion=gini, max_depth=None, n_estimators=100; total time=   0.2s\n",
      "[CV] END ..criterion=gini, max_depth=None, n_estimators=1000; total time=   1.9s\n",
      "[CV] END ..criterion=gini, max_depth=None, n_estimators=1000; total time=   1.7s\n",
      "[CV] END ..criterion=gini, max_depth=None, n_estimators=1000; total time=   1.8s\n",
      "[CV] END ..criterion=gini, max_depth=None, n_estimators=1000; total time=   1.8s\n",
      "[CV] END ..criterion=gini, max_depth=None, n_estimators=1000; total time=   2.0s\n",
      "[CV] END .......criterion=gini, max_depth=5, n_estimators=10; total time=   0.0s\n",
      "[CV] END .......criterion=gini, max_depth=5, n_estimators=10; total time=   0.0s\n",
      "[CV] END .......criterion=gini, max_depth=5, n_estimators=10; total time=   0.0s\n",
      "[CV] END .......criterion=gini, max_depth=5, n_estimators=10; total time=   0.0s\n",
      "[CV] END .......criterion=gini, max_depth=5, n_estimators=10; total time=   0.0s\n",
      "[CV] END ......criterion=gini, max_depth=5, n_estimators=100; total time=   0.2s\n",
      "[CV] END ......criterion=gini, max_depth=5, n_estimators=100; total time=   0.2s\n",
      "[CV] END ......criterion=gini, max_depth=5, n_estimators=100; total time=   0.2s\n",
      "[CV] END ......criterion=gini, max_depth=5, n_estimators=100; total time=   0.2s\n",
      "[CV] END ......criterion=gini, max_depth=5, n_estimators=100; total time=   0.2s\n",
      "[CV] END .....criterion=gini, max_depth=5, n_estimators=1000; total time=   1.7s\n",
      "[CV] END .....criterion=gini, max_depth=5, n_estimators=1000; total time=   1.6s\n",
      "[CV] END .....criterion=gini, max_depth=5, n_estimators=1000; total time=   1.7s\n",
      "[CV] END .....criterion=gini, max_depth=5, n_estimators=1000; total time=   1.7s\n",
      "[CV] END .....criterion=gini, max_depth=5, n_estimators=1000; total time=   1.6s\n",
      "[CV] END ......criterion=gini, max_depth=10, n_estimators=10; total time=   0.0s\n",
      "[CV] END ......criterion=gini, max_depth=10, n_estimators=10; total time=   0.0s\n",
      "[CV] END ......criterion=gini, max_depth=10, n_estimators=10; total time=   0.0s\n",
      "[CV] END ......criterion=gini, max_depth=10, n_estimators=10; total time=   0.0s\n",
      "[CV] END ......criterion=gini, max_depth=10, n_estimators=10; total time=   0.0s\n",
      "[CV] END .....criterion=gini, max_depth=10, n_estimators=100; total time=   0.2s\n",
      "[CV] END .....criterion=gini, max_depth=10, n_estimators=100; total time=   0.2s\n",
      "[CV] END .....criterion=gini, max_depth=10, n_estimators=100; total time=   0.2s\n",
      "[CV] END .....criterion=gini, max_depth=10, n_estimators=100; total time=   0.2s\n",
      "[CV] END .....criterion=gini, max_depth=10, n_estimators=100; total time=   0.2s\n",
      "[CV] END ....criterion=gini, max_depth=10, n_estimators=1000; total time=   1.7s\n",
      "[CV] END ....criterion=gini, max_depth=10, n_estimators=1000; total time=   1.7s\n",
      "[CV] END ....criterion=gini, max_depth=10, n_estimators=1000; total time=   1.8s\n",
      "[CV] END ....criterion=gini, max_depth=10, n_estimators=1000; total time=   1.9s\n",
      "[CV] END ....criterion=gini, max_depth=10, n_estimators=1000; total time=   1.9s\n",
      "[CV] END .criterion=entropy, max_depth=None, n_estimators=10; total time=   0.0s\n",
      "[CV] END .criterion=entropy, max_depth=None, n_estimators=10; total time=   0.0s\n",
      "[CV] END .criterion=entropy, max_depth=None, n_estimators=10; total time=   0.0s\n",
      "[CV] END .criterion=entropy, max_depth=None, n_estimators=10; total time=   0.0s\n",
      "[CV] END .criterion=entropy, max_depth=None, n_estimators=10; total time=   0.0s\n",
      "[CV] END criterion=entropy, max_depth=None, n_estimators=100; total time=   0.2s\n",
      "[CV] END criterion=entropy, max_depth=None, n_estimators=100; total time=   0.2s\n",
      "[CV] END criterion=entropy, max_depth=None, n_estimators=100; total time=   0.2s\n",
      "[CV] END criterion=entropy, max_depth=None, n_estimators=100; total time=   0.3s\n",
      "[CV] END criterion=entropy, max_depth=None, n_estimators=100; total time=   0.2s\n",
      "[CV] END criterion=entropy, max_depth=None, n_estimators=1000; total time=   1.8s\n",
      "[CV] END criterion=entropy, max_depth=None, n_estimators=1000; total time=   1.8s\n",
      "[CV] END criterion=entropy, max_depth=None, n_estimators=1000; total time=   1.9s\n",
      "[CV] END criterion=entropy, max_depth=None, n_estimators=1000; total time=   1.8s\n",
      "[CV] END criterion=entropy, max_depth=None, n_estimators=1000; total time=   2.0s\n",
      "[CV] END ....criterion=entropy, max_depth=5, n_estimators=10; total time=   0.0s\n",
      "[CV] END ....criterion=entropy, max_depth=5, n_estimators=10; total time=   0.0s\n",
      "[CV] END ....criterion=entropy, max_depth=5, n_estimators=10; total time=   0.0s\n",
      "[CV] END ....criterion=entropy, max_depth=5, n_estimators=10; total time=   0.0s\n",
      "[CV] END ....criterion=entropy, max_depth=5, n_estimators=10; total time=   0.0s\n",
      "[CV] END ...criterion=entropy, max_depth=5, n_estimators=100; total time=   0.2s\n",
      "[CV] END ...criterion=entropy, max_depth=5, n_estimators=100; total time=   0.2s\n",
      "[CV] END ...criterion=entropy, max_depth=5, n_estimators=100; total time=   0.2s\n",
      "[CV] END ...criterion=entropy, max_depth=5, n_estimators=100; total time=   0.2s\n",
      "[CV] END ...criterion=entropy, max_depth=5, n_estimators=100; total time=   0.2s\n",
      "[CV] END ..criterion=entropy, max_depth=5, n_estimators=1000; total time=   1.6s\n",
      "[CV] END ..criterion=entropy, max_depth=5, n_estimators=1000; total time=   1.7s\n",
      "[CV] END ..criterion=entropy, max_depth=5, n_estimators=1000; total time=   1.9s\n",
      "[CV] END ..criterion=entropy, max_depth=5, n_estimators=1000; total time=   1.6s\n",
      "[CV] END ..criterion=entropy, max_depth=5, n_estimators=1000; total time=   1.7s\n",
      "[CV] END ...criterion=entropy, max_depth=10, n_estimators=10; total time=   0.0s\n",
      "[CV] END ...criterion=entropy, max_depth=10, n_estimators=10; total time=   0.0s\n",
      "[CV] END ...criterion=entropy, max_depth=10, n_estimators=10; total time=   0.0s\n",
      "[CV] END ...criterion=entropy, max_depth=10, n_estimators=10; total time=   0.0s\n",
      "[CV] END ...criterion=entropy, max_depth=10, n_estimators=10; total time=   0.0s\n",
      "[CV] END ..criterion=entropy, max_depth=10, n_estimators=100; total time=   0.2s\n",
      "[CV] END ..criterion=entropy, max_depth=10, n_estimators=100; total time=   0.2s\n",
      "[CV] END ..criterion=entropy, max_depth=10, n_estimators=100; total time=   0.3s\n",
      "[CV] END ..criterion=entropy, max_depth=10, n_estimators=100; total time=   0.2s\n",
      "[CV] END ..criterion=entropy, max_depth=10, n_estimators=100; total time=   0.2s\n",
      "[CV] END .criterion=entropy, max_depth=10, n_estimators=1000; total time=   1.8s\n",
      "[CV] END .criterion=entropy, max_depth=10, n_estimators=1000; total time=   2.0s\n",
      "[CV] END .criterion=entropy, max_depth=10, n_estimators=1000; total time=   1.8s\n",
      "[CV] END .criterion=entropy, max_depth=10, n_estimators=1000; total time=   1.8s\n",
      "[CV] END .criterion=entropy, max_depth=10, n_estimators=1000; total time=   1.8s\n"
     ]
    },
    {
     "data": {
      "text/plain": [
       "GridSearchCV(estimator=RandomForestClassifier(),\n",
       "             param_grid={'criterion': ['gini', 'entropy'],\n",
       "                         'max_depth': [None, 5, 10],\n",
       "                         'n_estimators': [10, 100, 1000]},\n",
       "             scoring='accuracy', verbose=2)"
      ]
     },
     "execution_count": 27,
     "metadata": {},
     "output_type": "execute_result"
    }
   ],
   "source": [
    "gscv_forest.fit(data,target)"
   ]
  },
  {
   "cell_type": "code",
   "execution_count": 28,
   "id": "590ede6a",
   "metadata": {},
   "outputs": [
    {
     "data": {
      "text/plain": [
       "{'criterion': 'gini', 'max_depth': 10, 'n_estimators': 10}"
      ]
     },
     "execution_count": 28,
     "metadata": {},
     "output_type": "execute_result"
    }
   ],
   "source": [
    "gscv_forest.best_params_"
   ]
  },
  {
   "cell_type": "code",
   "execution_count": 29,
   "id": "2c12a36a",
   "metadata": {},
   "outputs": [
    {
     "data": {
      "text/plain": [
       "0.8204444165463561"
      ]
     },
     "execution_count": 29,
     "metadata": {},
     "output_type": "execute_result"
    }
   ],
   "source": [
    "gscv_forest.best_score_"
   ]
  },
  {
   "cell_type": "markdown",
   "id": "8759ee40",
   "metadata": {},
   "source": [
    "Therefore, the best predictor for this test was the Random Forest with max_depth of 10, with 100 trees using gini criterion."
   ]
  },
  {
   "cell_type": "markdown",
   "id": "4e69f920",
   "metadata": {},
   "source": [
    "# Training final estimator"
   ]
  },
  {
   "cell_type": "code",
   "execution_count": 30,
   "id": "66fc84b5",
   "metadata": {},
   "outputs": [],
   "source": [
    "final_estimator = RandomForestClassifier(10,max_depth=10)"
   ]
  },
  {
   "cell_type": "code",
   "execution_count": 31,
   "id": "86e27bb9",
   "metadata": {},
   "outputs": [
    {
     "data": {
      "text/plain": [
       "RandomForestClassifier(max_depth=10, n_estimators=10)"
      ]
     },
     "execution_count": 31,
     "metadata": {},
     "output_type": "execute_result"
    }
   ],
   "source": [
    "final_estimator.fit(data,target)"
   ]
  },
  {
   "cell_type": "markdown",
   "id": "50c1cb3a",
   "metadata": {},
   "source": [
    "# Preprocessing pipeline"
   ]
  },
  {
   "cell_type": "code",
   "execution_count": 32,
   "id": "7bee7983",
   "metadata": {},
   "outputs": [],
   "source": [
    "def preprocessing_titanic(target_data, base_data):\n",
    "    target_data.set_index(\"PassengerId\", inplace=True)\n",
    "    target_data = target_data.loc[:,['Pclass','Sex','Age','SibSp','Fare']]\n",
    "    \n",
    "    if len(target_data[target_data['Age'].isna()]['Age']) > 0:\n",
    "        fill_age_with_meanstd(target_data, base_data)\n",
    "        \n",
    "    if len(target_data[target_data['Fare'].isna()]['Fare']) > 0:\n",
    "        fill_fare_with_meanstd(target_data,base_data)\n",
    "    \n",
    "    make_pclass_age_column(target_data)\n",
    "    \n",
    "    ss = StandardScaler()\n",
    "    ss.fit(base_data.loc[:,['Age', 'Fare','pclass_age']])\n",
    "    target_data.loc[:,['Age', 'Fare','pclass_age']] = ss.transform(target_data.loc[:,['Age', 'Fare','pclass_age']])\n",
    "\n",
    "    target_data['Sex'] = target_data['Sex'].apply(lambda x: 1 if x=='female' else 0)\n",
    "    return target_data"
   ]
  },
  {
   "cell_type": "code",
   "execution_count": 33,
   "id": "0caf8183",
   "metadata": {},
   "outputs": [],
   "source": [
    "base_data = pd.read_csv('train.csv')\n",
    "fill_age_with_meanstd(base_data, base_data)\n",
    "make_pclass_age_column(base_data)"
   ]
  },
  {
   "cell_type": "code",
   "execution_count": 34,
   "id": "5a2c5bac",
   "metadata": {},
   "outputs": [],
   "source": [
    "test_data = pd.read_csv('test.csv')"
   ]
  },
  {
   "cell_type": "code",
   "execution_count": 35,
   "id": "27c4f0ec",
   "metadata": {},
   "outputs": [
    {
     "data": {
      "text/html": [
       "<div>\n",
       "<style scoped>\n",
       "    .dataframe tbody tr th:only-of-type {\n",
       "        vertical-align: middle;\n",
       "    }\n",
       "\n",
       "    .dataframe tbody tr th {\n",
       "        vertical-align: top;\n",
       "    }\n",
       "\n",
       "    .dataframe thead th {\n",
       "        text-align: right;\n",
       "    }\n",
       "</style>\n",
       "<table border=\"1\" class=\"dataframe\">\n",
       "  <thead>\n",
       "    <tr style=\"text-align: right;\">\n",
       "      <th></th>\n",
       "      <th>PassengerId</th>\n",
       "      <th>Pclass</th>\n",
       "      <th>Name</th>\n",
       "      <th>Sex</th>\n",
       "      <th>Age</th>\n",
       "      <th>SibSp</th>\n",
       "      <th>Parch</th>\n",
       "      <th>Ticket</th>\n",
       "      <th>Fare</th>\n",
       "      <th>Cabin</th>\n",
       "      <th>Embarked</th>\n",
       "    </tr>\n",
       "  </thead>\n",
       "  <tbody>\n",
       "    <tr>\n",
       "      <th>0</th>\n",
       "      <td>892</td>\n",
       "      <td>3</td>\n",
       "      <td>Kelly, Mr. James</td>\n",
       "      <td>male</td>\n",
       "      <td>34.5</td>\n",
       "      <td>0</td>\n",
       "      <td>0</td>\n",
       "      <td>330911</td>\n",
       "      <td>7.8292</td>\n",
       "      <td>NaN</td>\n",
       "      <td>Q</td>\n",
       "    </tr>\n",
       "    <tr>\n",
       "      <th>1</th>\n",
       "      <td>893</td>\n",
       "      <td>3</td>\n",
       "      <td>Wilkes, Mrs. James (Ellen Needs)</td>\n",
       "      <td>female</td>\n",
       "      <td>47.0</td>\n",
       "      <td>1</td>\n",
       "      <td>0</td>\n",
       "      <td>363272</td>\n",
       "      <td>7.0000</td>\n",
       "      <td>NaN</td>\n",
       "      <td>S</td>\n",
       "    </tr>\n",
       "    <tr>\n",
       "      <th>2</th>\n",
       "      <td>894</td>\n",
       "      <td>2</td>\n",
       "      <td>Myles, Mr. Thomas Francis</td>\n",
       "      <td>male</td>\n",
       "      <td>62.0</td>\n",
       "      <td>0</td>\n",
       "      <td>0</td>\n",
       "      <td>240276</td>\n",
       "      <td>9.6875</td>\n",
       "      <td>NaN</td>\n",
       "      <td>Q</td>\n",
       "    </tr>\n",
       "    <tr>\n",
       "      <th>3</th>\n",
       "      <td>895</td>\n",
       "      <td>3</td>\n",
       "      <td>Wirz, Mr. Albert</td>\n",
       "      <td>male</td>\n",
       "      <td>27.0</td>\n",
       "      <td>0</td>\n",
       "      <td>0</td>\n",
       "      <td>315154</td>\n",
       "      <td>8.6625</td>\n",
       "      <td>NaN</td>\n",
       "      <td>S</td>\n",
       "    </tr>\n",
       "    <tr>\n",
       "      <th>4</th>\n",
       "      <td>896</td>\n",
       "      <td>3</td>\n",
       "      <td>Hirvonen, Mrs. Alexander (Helga E Lindqvist)</td>\n",
       "      <td>female</td>\n",
       "      <td>22.0</td>\n",
       "      <td>1</td>\n",
       "      <td>1</td>\n",
       "      <td>3101298</td>\n",
       "      <td>12.2875</td>\n",
       "      <td>NaN</td>\n",
       "      <td>S</td>\n",
       "    </tr>\n",
       "  </tbody>\n",
       "</table>\n",
       "</div>"
      ],
      "text/plain": [
       "   PassengerId  Pclass                                          Name     Sex  \\\n",
       "0          892       3                              Kelly, Mr. James    male   \n",
       "1          893       3              Wilkes, Mrs. James (Ellen Needs)  female   \n",
       "2          894       2                     Myles, Mr. Thomas Francis    male   \n",
       "3          895       3                              Wirz, Mr. Albert    male   \n",
       "4          896       3  Hirvonen, Mrs. Alexander (Helga E Lindqvist)  female   \n",
       "\n",
       "    Age  SibSp  Parch   Ticket     Fare Cabin Embarked  \n",
       "0  34.5      0      0   330911   7.8292   NaN        Q  \n",
       "1  47.0      1      0   363272   7.0000   NaN        S  \n",
       "2  62.0      0      0   240276   9.6875   NaN        Q  \n",
       "3  27.0      0      0   315154   8.6625   NaN        S  \n",
       "4  22.0      1      1  3101298  12.2875   NaN        S  "
      ]
     },
     "execution_count": 35,
     "metadata": {},
     "output_type": "execute_result"
    }
   ],
   "source": [
    "test_data.head()"
   ]
  },
  {
   "cell_type": "code",
   "execution_count": 36,
   "id": "954ffcac",
   "metadata": {},
   "outputs": [],
   "source": [
    "test_data = preprocessing_titanic(test_data, base_data)"
   ]
  },
  {
   "cell_type": "code",
   "execution_count": 37,
   "id": "f5a58294",
   "metadata": {},
   "outputs": [
    {
     "data": {
      "text/html": [
       "<div>\n",
       "<style scoped>\n",
       "    .dataframe tbody tr th:only-of-type {\n",
       "        vertical-align: middle;\n",
       "    }\n",
       "\n",
       "    .dataframe tbody tr th {\n",
       "        vertical-align: top;\n",
       "    }\n",
       "\n",
       "    .dataframe thead th {\n",
       "        text-align: right;\n",
       "    }\n",
       "</style>\n",
       "<table border=\"1\" class=\"dataframe\">\n",
       "  <thead>\n",
       "    <tr style=\"text-align: right;\">\n",
       "      <th></th>\n",
       "      <th>Pclass</th>\n",
       "      <th>Sex</th>\n",
       "      <th>Age</th>\n",
       "      <th>SibSp</th>\n",
       "      <th>Fare</th>\n",
       "      <th>pclass_age</th>\n",
       "    </tr>\n",
       "    <tr>\n",
       "      <th>PassengerId</th>\n",
       "      <th></th>\n",
       "      <th></th>\n",
       "      <th></th>\n",
       "      <th></th>\n",
       "      <th></th>\n",
       "      <th></th>\n",
       "    </tr>\n",
       "  </thead>\n",
       "  <tbody>\n",
       "    <tr>\n",
       "      <th>892</th>\n",
       "      <td>3</td>\n",
       "      <td>0</td>\n",
       "      <td>0.362062</td>\n",
       "      <td>0</td>\n",
       "      <td>-0.490783</td>\n",
       "      <td>0.973452</td>\n",
       "    </tr>\n",
       "    <tr>\n",
       "      <th>893</th>\n",
       "      <td>3</td>\n",
       "      <td>1</td>\n",
       "      <td>1.288568</td>\n",
       "      <td>1</td>\n",
       "      <td>-0.507479</td>\n",
       "      <td>2.336490</td>\n",
       "    </tr>\n",
       "    <tr>\n",
       "      <th>894</th>\n",
       "      <td>2</td>\n",
       "      <td>0</td>\n",
       "      <td>2.400376</td>\n",
       "      <td>0</td>\n",
       "      <td>-0.453367</td>\n",
       "      <td>1.882144</td>\n",
       "    </tr>\n",
       "    <tr>\n",
       "      <th>895</th>\n",
       "      <td>3</td>\n",
       "      <td>0</td>\n",
       "      <td>-0.193842</td>\n",
       "      <td>0</td>\n",
       "      <td>-0.474005</td>\n",
       "      <td>0.519107</td>\n",
       "    </tr>\n",
       "    <tr>\n",
       "      <th>896</th>\n",
       "      <td>3</td>\n",
       "      <td>1</td>\n",
       "      <td>-0.564445</td>\n",
       "      <td>1</td>\n",
       "      <td>-0.401017</td>\n",
       "      <td>0.064761</td>\n",
       "    </tr>\n",
       "  </tbody>\n",
       "</table>\n",
       "</div>"
      ],
      "text/plain": [
       "             Pclass  Sex       Age  SibSp      Fare  pclass_age\n",
       "PassengerId                                                    \n",
       "892               3    0  0.362062      0 -0.490783    0.973452\n",
       "893               3    1  1.288568      1 -0.507479    2.336490\n",
       "894               2    0  2.400376      0 -0.453367    1.882144\n",
       "895               3    0 -0.193842      0 -0.474005    0.519107\n",
       "896               3    1 -0.564445      1 -0.401017    0.064761"
      ]
     },
     "execution_count": 37,
     "metadata": {},
     "output_type": "execute_result"
    }
   ],
   "source": [
    "test_data.head()"
   ]
  },
  {
   "cell_type": "code",
   "execution_count": 38,
   "id": "6fbe28b8",
   "metadata": {},
   "outputs": [
    {
     "name": "stdout",
     "output_type": "stream",
     "text": [
      "<class 'pandas.core.frame.DataFrame'>\n",
      "Int64Index: 418 entries, 892 to 1309\n",
      "Data columns (total 6 columns):\n",
      " #   Column      Non-Null Count  Dtype  \n",
      "---  ------      --------------  -----  \n",
      " 0   Pclass      418 non-null    int64  \n",
      " 1   Sex         418 non-null    int64  \n",
      " 2   Age         418 non-null    float64\n",
      " 3   SibSp       418 non-null    int64  \n",
      " 4   Fare        418 non-null    float64\n",
      " 5   pclass_age  418 non-null    float64\n",
      "dtypes: float64(3), int64(3)\n",
      "memory usage: 22.9 KB\n"
     ]
    }
   ],
   "source": [
    "test_data.info()"
   ]
  },
  {
   "cell_type": "code",
   "execution_count": 41,
   "id": "6b32387a",
   "metadata": {},
   "outputs": [],
   "source": [
    "pred = final_estimator.predict(test_data)"
   ]
  },
  {
   "cell_type": "code",
   "execution_count": 42,
   "id": "40dcda08",
   "metadata": {},
   "outputs": [],
   "source": [
    "answers = pd.read_csv('gender_submission.csv')"
   ]
  },
  {
   "cell_type": "code",
   "execution_count": 43,
   "id": "e74601b9",
   "metadata": {},
   "outputs": [],
   "source": [
    "answers.set_index('PassengerId',inplace=True)"
   ]
  },
  {
   "cell_type": "code",
   "execution_count": 44,
   "id": "98cacfe2",
   "metadata": {},
   "outputs": [
    {
     "data": {
      "text/html": [
       "<div>\n",
       "<style scoped>\n",
       "    .dataframe tbody tr th:only-of-type {\n",
       "        vertical-align: middle;\n",
       "    }\n",
       "\n",
       "    .dataframe tbody tr th {\n",
       "        vertical-align: top;\n",
       "    }\n",
       "\n",
       "    .dataframe thead th {\n",
       "        text-align: right;\n",
       "    }\n",
       "</style>\n",
       "<table border=\"1\" class=\"dataframe\">\n",
       "  <thead>\n",
       "    <tr style=\"text-align: right;\">\n",
       "      <th></th>\n",
       "      <th>Survived</th>\n",
       "    </tr>\n",
       "    <tr>\n",
       "      <th>PassengerId</th>\n",
       "      <th></th>\n",
       "    </tr>\n",
       "  </thead>\n",
       "  <tbody>\n",
       "    <tr>\n",
       "      <th>892</th>\n",
       "      <td>0</td>\n",
       "    </tr>\n",
       "    <tr>\n",
       "      <th>893</th>\n",
       "      <td>1</td>\n",
       "    </tr>\n",
       "    <tr>\n",
       "      <th>894</th>\n",
       "      <td>0</td>\n",
       "    </tr>\n",
       "    <tr>\n",
       "      <th>895</th>\n",
       "      <td>0</td>\n",
       "    </tr>\n",
       "    <tr>\n",
       "      <th>896</th>\n",
       "      <td>1</td>\n",
       "    </tr>\n",
       "    <tr>\n",
       "      <th>...</th>\n",
       "      <td>...</td>\n",
       "    </tr>\n",
       "    <tr>\n",
       "      <th>1305</th>\n",
       "      <td>0</td>\n",
       "    </tr>\n",
       "    <tr>\n",
       "      <th>1306</th>\n",
       "      <td>1</td>\n",
       "    </tr>\n",
       "    <tr>\n",
       "      <th>1307</th>\n",
       "      <td>0</td>\n",
       "    </tr>\n",
       "    <tr>\n",
       "      <th>1308</th>\n",
       "      <td>0</td>\n",
       "    </tr>\n",
       "    <tr>\n",
       "      <th>1309</th>\n",
       "      <td>0</td>\n",
       "    </tr>\n",
       "  </tbody>\n",
       "</table>\n",
       "<p>418 rows × 1 columns</p>\n",
       "</div>"
      ],
      "text/plain": [
       "             Survived\n",
       "PassengerId          \n",
       "892                 0\n",
       "893                 1\n",
       "894                 0\n",
       "895                 0\n",
       "896                 1\n",
       "...               ...\n",
       "1305                0\n",
       "1306                1\n",
       "1307                0\n",
       "1308                0\n",
       "1309                0\n",
       "\n",
       "[418 rows x 1 columns]"
      ]
     },
     "execution_count": 44,
     "metadata": {},
     "output_type": "execute_result"
    }
   ],
   "source": [
    "answers"
   ]
  },
  {
   "cell_type": "code",
   "execution_count": 45,
   "id": "3f0bbfdf",
   "metadata": {},
   "outputs": [],
   "source": [
    "from sklearn.metrics import confusion_matrix, accuracy_score"
   ]
  },
  {
   "cell_type": "code",
   "execution_count": 46,
   "id": "74a77e55",
   "metadata": {},
   "outputs": [
    {
     "data": {
      "text/plain": [
       "array([[246,  20],\n",
       "       [ 34, 118]])"
      ]
     },
     "execution_count": 46,
     "metadata": {},
     "output_type": "execute_result"
    }
   ],
   "source": [
    "confusion_matrix(answers, pred)"
   ]
  },
  {
   "cell_type": "code",
   "execution_count": 47,
   "id": "cbcdee40",
   "metadata": {},
   "outputs": [
    {
     "data": {
      "text/plain": [
       "0.8708133971291866"
      ]
     },
     "execution_count": 47,
     "metadata": {},
     "output_type": "execute_result"
    }
   ],
   "source": [
    "accuracy_score(answers, pred)"
   ]
  },
  {
   "cell_type": "code",
   "execution_count": 52,
   "id": "3a8ad9d0",
   "metadata": {},
   "outputs": [],
   "source": [
    "results = pd.DataFrame(pred,index=answers.index, columns=['Survived'])"
   ]
  },
  {
   "cell_type": "code",
   "execution_count": 53,
   "id": "4e08b5a6",
   "metadata": {},
   "outputs": [],
   "source": [
    "results.to_csv('my_results.csv')"
   ]
  },
  {
   "cell_type": "code",
   "execution_count": null,
   "id": "ac1bb73a",
   "metadata": {},
   "outputs": [],
   "source": []
  }
 ],
 "metadata": {
  "kernelspec": {
   "display_name": "Python 3 (ipykernel)",
   "language": "python",
   "name": "python3"
  },
  "language_info": {
   "codemirror_mode": {
    "name": "ipython",
    "version": 3
   },
   "file_extension": ".py",
   "mimetype": "text/x-python",
   "name": "python",
   "nbconvert_exporter": "python",
   "pygments_lexer": "ipython3",
   "version": "3.7.11"
  }
 },
 "nbformat": 4,
 "nbformat_minor": 5
}
