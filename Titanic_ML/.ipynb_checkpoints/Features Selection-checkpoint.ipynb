{
 "cells": [
  {
   "cell_type": "code",
   "execution_count": 1,
   "id": "3ede74f0",
   "metadata": {},
   "outputs": [],
   "source": [
    "import pandas as pd\n",
    "import seaborn as sns\n",
    "import matplotlib.pyplot as plt\n",
    "import numpy as np"
   ]
  },
  {
   "cell_type": "markdown",
   "id": "3ce70e2e",
   "metadata": {},
   "source": [
    "# Features Selections and Creation"
   ]
  },
  {
   "cell_type": "markdown",
   "id": "cab4d296",
   "metadata": {},
   "source": [
    "#### Changes proposed:\n",
    "<br> Parch as ordinal data for 0,1,2,3+\n",
    "<br> SibSp as bynary for 0 = no SibSp and 1 = 1 or more SibSp\n",
    "<br> Age-> fill with same mean and std, randomly, to avoid loosing a lot of data, then re-run without that to ensure that it don't affect negatively\n",
    "<br> Embarked, fill with most common (S), as it has only 2 missing, and might be excluded after all\n",
    "#### New data:\n",
    "<br> Pclass² * Age -> enlarge difference within classes and make an new estimator that showed relevance before\n",
    "<br> {male:1, female:-1} * Age -> enlarge relevance of Sex within Age\n",
    "<br> Sex  vs Pclass: f-1 = 1, f-2 = 2, f-3 = 3, m-1 = 4, m-2 = 5, m-3 = 6 "
   ]
  },
  {
   "cell_type": "code",
   "execution_count": 116,
   "id": "ed6f4c09",
   "metadata": {},
   "outputs": [],
   "source": [
    "data = pd.read_csv(\"train.csv\")"
   ]
  },
  {
   "cell_type": "code",
   "execution_count": 117,
   "id": "c3cfe098",
   "metadata": {},
   "outputs": [],
   "source": [
    "data.set_index('PassengerId', inplace=True)"
   ]
  },
  {
   "cell_type": "code",
   "execution_count": 118,
   "id": "32598343",
   "metadata": {},
   "outputs": [
    {
     "name": "stdout",
     "output_type": "stream",
     "text": [
      "<class 'pandas.core.frame.DataFrame'>\n",
      "Int64Index: 891 entries, 1 to 891\n",
      "Data columns (total 11 columns):\n",
      " #   Column    Non-Null Count  Dtype  \n",
      "---  ------    --------------  -----  \n",
      " 0   Survived  891 non-null    int64  \n",
      " 1   Pclass    891 non-null    int64  \n",
      " 2   Name      891 non-null    object \n",
      " 3   Sex       891 non-null    object \n",
      " 4   Age       714 non-null    float64\n",
      " 5   SibSp     891 non-null    int64  \n",
      " 6   Parch     891 non-null    int64  \n",
      " 7   Ticket    891 non-null    object \n",
      " 8   Fare      891 non-null    float64\n",
      " 9   Cabin     204 non-null    object \n",
      " 10  Embarked  889 non-null    object \n",
      "dtypes: float64(2), int64(4), object(5)\n",
      "memory usage: 83.5+ KB\n"
     ]
    }
   ],
   "source": [
    "data.info()"
   ]
  },
  {
   "cell_type": "markdown",
   "id": "87f31228",
   "metadata": {},
   "source": [
    "#### Filling Age"
   ]
  },
  {
   "cell_type": "code",
   "execution_count": 119,
   "id": "9f2ff62b",
   "metadata": {
    "scrolled": true
   },
   "outputs": [
    {
     "data": {
      "text/plain": [
       "29.69911764705882"
      ]
     },
     "execution_count": 119,
     "metadata": {},
     "output_type": "execute_result"
    }
   ],
   "source": [
    "data['Age'].mean()"
   ]
  },
  {
   "cell_type": "code",
   "execution_count": 120,
   "id": "41aa00f9",
   "metadata": {},
   "outputs": [
    {
     "data": {
      "text/plain": [
       "14.526497332334042"
      ]
     },
     "execution_count": 120,
     "metadata": {},
     "output_type": "execute_result"
    }
   ],
   "source": [
    "data['Age'].std()"
   ]
  },
  {
   "cell_type": "code",
   "execution_count": 121,
   "id": "885df4b3",
   "metadata": {},
   "outputs": [],
   "source": [
    "mean = data['Age'].mean()\n",
    "std = data['Age'].std()\n",
    "ammount = data['Age'].isna().sum()\n",
    "replace = np.random.randint(mean-std, mean+std, size =ammount)\n",
    "\n",
    "new_age = []\n",
    "it = iter(replace)\n",
    "for i in data['Age']:\n",
    "    if np.isnan(i):\n",
    "        new_age.append(next(it))\n",
    "    else:\n",
    "        new_age.append(i)\n",
    "        \n",
    "data['Age'] = new_age"
   ]
  },
  {
   "cell_type": "code",
   "execution_count": 122,
   "id": "ac686f90",
   "metadata": {},
   "outputs": [
    {
     "name": "stdout",
     "output_type": "stream",
     "text": [
      "<class 'pandas.core.frame.DataFrame'>\n",
      "Int64Index: 891 entries, 1 to 891\n",
      "Data columns (total 11 columns):\n",
      " #   Column    Non-Null Count  Dtype  \n",
      "---  ------    --------------  -----  \n",
      " 0   Survived  891 non-null    int64  \n",
      " 1   Pclass    891 non-null    int64  \n",
      " 2   Name      891 non-null    object \n",
      " 3   Sex       891 non-null    object \n",
      " 4   Age       891 non-null    float64\n",
      " 5   SibSp     891 non-null    int64  \n",
      " 6   Parch     891 non-null    int64  \n",
      " 7   Ticket    891 non-null    object \n",
      " 8   Fare      891 non-null    float64\n",
      " 9   Cabin     204 non-null    object \n",
      " 10  Embarked  889 non-null    object \n",
      "dtypes: float64(2), int64(4), object(5)\n",
      "memory usage: 83.5+ KB\n"
     ]
    }
   ],
   "source": [
    "data.info()"
   ]
  },
  {
   "cell_type": "markdown",
   "id": "6b20e33f",
   "metadata": {},
   "source": [
    "#### Filling Embarked"
   ]
  },
  {
   "cell_type": "code",
   "execution_count": 123,
   "id": "62faafa6",
   "metadata": {},
   "outputs": [],
   "source": [
    "data['Embarked'].fillna('S', inplace=True)"
   ]
  },
  {
   "cell_type": "code",
   "execution_count": 124,
   "id": "1e3515a8",
   "metadata": {},
   "outputs": [
    {
     "name": "stdout",
     "output_type": "stream",
     "text": [
      "<class 'pandas.core.frame.DataFrame'>\n",
      "Int64Index: 891 entries, 1 to 891\n",
      "Data columns (total 11 columns):\n",
      " #   Column    Non-Null Count  Dtype  \n",
      "---  ------    --------------  -----  \n",
      " 0   Survived  891 non-null    int64  \n",
      " 1   Pclass    891 non-null    int64  \n",
      " 2   Name      891 non-null    object \n",
      " 3   Sex       891 non-null    object \n",
      " 4   Age       891 non-null    float64\n",
      " 5   SibSp     891 non-null    int64  \n",
      " 6   Parch     891 non-null    int64  \n",
      " 7   Ticket    891 non-null    object \n",
      " 8   Fare      891 non-null    float64\n",
      " 9   Cabin     204 non-null    object \n",
      " 10  Embarked  891 non-null    object \n",
      "dtypes: float64(2), int64(4), object(5)\n",
      "memory usage: 83.5+ KB\n"
     ]
    }
   ],
   "source": [
    "data.info()"
   ]
  },
  {
   "cell_type": "markdown",
   "id": "29a5b116",
   "metadata": {},
   "source": [
    "#### Making parch in [0,1,2,3+]"
   ]
  },
  {
   "cell_type": "code",
   "execution_count": 125,
   "id": "02250f90",
   "metadata": {},
   "outputs": [],
   "source": [
    "data['Parch'] = data['Parch'].apply(lambda x: 3 if x>3 else x)"
   ]
  },
  {
   "cell_type": "markdown",
   "id": "c1733b10",
   "metadata": {},
   "source": [
    "#### Drop unused cols"
   ]
  },
  {
   "cell_type": "code",
   "execution_count": 126,
   "id": "f9d83ac2",
   "metadata": {},
   "outputs": [],
   "source": [
    "data.drop(['Name', 'Ticket', 'Cabin'], axis = 1, inplace = True)"
   ]
  },
  {
   "cell_type": "code",
   "execution_count": 127,
   "id": "71247bf6",
   "metadata": {
    "scrolled": true
   },
   "outputs": [
    {
     "name": "stdout",
     "output_type": "stream",
     "text": [
      "<class 'pandas.core.frame.DataFrame'>\n",
      "Int64Index: 891 entries, 1 to 891\n",
      "Data columns (total 8 columns):\n",
      " #   Column    Non-Null Count  Dtype  \n",
      "---  ------    --------------  -----  \n",
      " 0   Survived  891 non-null    int64  \n",
      " 1   Pclass    891 non-null    int64  \n",
      " 2   Sex       891 non-null    object \n",
      " 3   Age       891 non-null    float64\n",
      " 4   SibSp     891 non-null    int64  \n",
      " 5   Parch     891 non-null    int64  \n",
      " 6   Fare      891 non-null    float64\n",
      " 7   Embarked  891 non-null    object \n",
      "dtypes: float64(2), int64(4), object(2)\n",
      "memory usage: 62.6+ KB\n"
     ]
    }
   ],
   "source": [
    "data.info()"
   ]
  },
  {
   "cell_type": "code",
   "execution_count": 128,
   "id": "1e2ff0a9",
   "metadata": {},
   "outputs": [],
   "source": [
    "target = data['Survived']\n",
    "data.drop(['Survived'], axis=1, inplace=True)"
   ]
  },
  {
   "cell_type": "markdown",
   "id": "ed91ac9c",
   "metadata": {},
   "source": [
    "#### Making sex binary"
   ]
  },
  {
   "cell_type": "code",
   "execution_count": 129,
   "id": "90660ec3",
   "metadata": {},
   "outputs": [],
   "source": [
    "data['Sex'] = data['Sex'].apply(lambda x: 1 if x=='female' else 0)"
   ]
  },
  {
   "cell_type": "markdown",
   "id": "6cf7b546",
   "metadata": {},
   "source": [
    "#### Get dummies"
   ]
  },
  {
   "cell_type": "code",
   "execution_count": 130,
   "id": "4dc4b3f3",
   "metadata": {},
   "outputs": [],
   "source": [
    "data = pd.get_dummies(data, \n",
    "                      prefix=[\"Embarked\"], \n",
    "                      columns=['Embarked'], \n",
    "                      drop_first=True)   "
   ]
  },
  {
   "cell_type": "code",
   "execution_count": 131,
   "id": "55a0611c",
   "metadata": {},
   "outputs": [
    {
     "data": {
      "text/html": [
       "<div>\n",
       "<style scoped>\n",
       "    .dataframe tbody tr th:only-of-type {\n",
       "        vertical-align: middle;\n",
       "    }\n",
       "\n",
       "    .dataframe tbody tr th {\n",
       "        vertical-align: top;\n",
       "    }\n",
       "\n",
       "    .dataframe thead th {\n",
       "        text-align: right;\n",
       "    }\n",
       "</style>\n",
       "<table border=\"1\" class=\"dataframe\">\n",
       "  <thead>\n",
       "    <tr style=\"text-align: right;\">\n",
       "      <th></th>\n",
       "      <th>Pclass</th>\n",
       "      <th>Sex</th>\n",
       "      <th>Age</th>\n",
       "      <th>SibSp</th>\n",
       "      <th>Parch</th>\n",
       "      <th>Fare</th>\n",
       "      <th>Embarked_Q</th>\n",
       "      <th>Embarked_S</th>\n",
       "    </tr>\n",
       "    <tr>\n",
       "      <th>PassengerId</th>\n",
       "      <th></th>\n",
       "      <th></th>\n",
       "      <th></th>\n",
       "      <th></th>\n",
       "      <th></th>\n",
       "      <th></th>\n",
       "      <th></th>\n",
       "      <th></th>\n",
       "    </tr>\n",
       "  </thead>\n",
       "  <tbody>\n",
       "    <tr>\n",
       "      <th>1</th>\n",
       "      <td>3</td>\n",
       "      <td>0</td>\n",
       "      <td>22.0</td>\n",
       "      <td>1</td>\n",
       "      <td>0</td>\n",
       "      <td>7.2500</td>\n",
       "      <td>0</td>\n",
       "      <td>1</td>\n",
       "    </tr>\n",
       "    <tr>\n",
       "      <th>2</th>\n",
       "      <td>1</td>\n",
       "      <td>1</td>\n",
       "      <td>38.0</td>\n",
       "      <td>1</td>\n",
       "      <td>0</td>\n",
       "      <td>71.2833</td>\n",
       "      <td>0</td>\n",
       "      <td>0</td>\n",
       "    </tr>\n",
       "    <tr>\n",
       "      <th>3</th>\n",
       "      <td>3</td>\n",
       "      <td>1</td>\n",
       "      <td>26.0</td>\n",
       "      <td>0</td>\n",
       "      <td>0</td>\n",
       "      <td>7.9250</td>\n",
       "      <td>0</td>\n",
       "      <td>1</td>\n",
       "    </tr>\n",
       "    <tr>\n",
       "      <th>4</th>\n",
       "      <td>1</td>\n",
       "      <td>1</td>\n",
       "      <td>35.0</td>\n",
       "      <td>1</td>\n",
       "      <td>0</td>\n",
       "      <td>53.1000</td>\n",
       "      <td>0</td>\n",
       "      <td>1</td>\n",
       "    </tr>\n",
       "    <tr>\n",
       "      <th>5</th>\n",
       "      <td>3</td>\n",
       "      <td>0</td>\n",
       "      <td>35.0</td>\n",
       "      <td>0</td>\n",
       "      <td>0</td>\n",
       "      <td>8.0500</td>\n",
       "      <td>0</td>\n",
       "      <td>1</td>\n",
       "    </tr>\n",
       "  </tbody>\n",
       "</table>\n",
       "</div>"
      ],
      "text/plain": [
       "             Pclass  Sex   Age  SibSp  Parch     Fare  Embarked_Q  Embarked_S\n",
       "PassengerId                                                                  \n",
       "1                 3    0  22.0      1      0   7.2500           0           1\n",
       "2                 1    1  38.0      1      0  71.2833           0           0\n",
       "3                 3    1  26.0      0      0   7.9250           0           1\n",
       "4                 1    1  35.0      1      0  53.1000           0           1\n",
       "5                 3    0  35.0      0      0   8.0500           0           1"
      ]
     },
     "execution_count": 131,
     "metadata": {},
     "output_type": "execute_result"
    }
   ],
   "source": [
    "data.head()"
   ]
  },
  {
   "cell_type": "markdown",
   "id": "895f498b",
   "metadata": {},
   "source": [
    "# Testing some changes"
   ]
  },
  {
   "cell_type": "code",
   "execution_count": 132,
   "id": "57a053eb",
   "metadata": {},
   "outputs": [],
   "source": [
    "from sklearn.linear_model import LogisticRegression\n",
    "from sklearn.tree import DecisionTreeClassifier\n",
    "from sklearn.ensemble import RandomForestClassifier\n",
    "from sklearn.model_selection import KFold"
   ]
  },
  {
   "cell_type": "code",
   "execution_count": 133,
   "id": "3cd4d93b",
   "metadata": {},
   "outputs": [],
   "source": [
    "predictors = [LogisticRegression(), RandomForestClassifier()]"
   ]
  },
  {
   "cell_type": "code",
   "execution_count": 134,
   "id": "ecd7699b",
   "metadata": {},
   "outputs": [],
   "source": [
    "kfold = KFold(n_splits=5)"
   ]
  },
  {
   "cell_type": "code",
   "execution_count": 135,
   "id": "34f73f1f",
   "metadata": {},
   "outputs": [],
   "source": [
    "def get_mean_scores(data, target, predictors):\n",
    "    mean_score = []\n",
    "    for i in predictors:\n",
    "        aux=[]\n",
    "        for train_index, test_index in kfold.split(data):\n",
    "            i.fit(data.iloc[train_index], target.iloc[train_index])\n",
    "            aux.append(i.score(data.iloc[test_index],target.iloc[test_index]))\n",
    "        mean_score.append(np.mean(aux))\n",
    "    return mean_score"
   ]
  },
  {
   "cell_type": "code",
   "execution_count": 197,
   "id": "d9cc9035",
   "metadata": {},
   "outputs": [],
   "source": [
    "def importances_plot(data, target, predictors): \n",
    "    feature_names = data.columns\n",
    "\n",
    "    predictors[0].fit(data,target)\n",
    "    importances = np.sqrt(np.square(predictors[0].coef_[0]))\n",
    "    logistic_importances = pd.Series(importances, index=feature_names)\n",
    "\n",
    "    predictors[1].fit(data,target)\n",
    "    importances = predictors[1].feature_importances_\n",
    "    std = np.std([\n",
    "        tree.feature_importances_ for tree in predictors[1].estimators_], axis=0)\n",
    "    forest_importances = pd.Series(importances, index=feature_names)\n",
    "\n",
    "    fig, ax = plt.subplots(ncols=2)\n",
    "    plt.sca(ax[0])\n",
    "    forest_importances.plot.bar(yerr=std, ax=ax[0])\n",
    "    ax[0].set_title(\"Feature importances using MDI\")\n",
    "    ax[0].set_ylabel(\"Mean decrease in impurity\")\n",
    "    plt.sca(ax[1])\n",
    "    logistic_importances.plot.bar(ax=ax[1])\n",
    "    ax[1].set_title(\"Feature importances\")\n",
    "    ax[1].set_ylabel(\"|Coef|\")\n",
    "    fig.tight_layout()\n",
    "    print(\"Forest:\")\n",
    "    print(\"\\tFare: \" + str(forest_importances['Fare']))\n",
    "    print(\"\\tAge: \" + str(forest_importances['Age']))\n",
    "    print(\"Logistic:\")\n",
    "    print(\"\\tFare: \" + str(logistic_importances['Fare']))\n",
    "    print(\"\\tAge: \" + str(logistic_importances['Age']))"
   ]
  },
  {
   "cell_type": "markdown",
   "id": "d90c6d2e",
   "metadata": {},
   "source": [
    "# Checking Ordinal vs Continuos"
   ]
  },
  {
   "cell_type": "markdown",
   "id": "43800605",
   "metadata": {},
   "source": [
    "It will be evaluated the mean score in a K-Fold test and the feature importance when changing Age and Fare to ordinal data"
   ]
  },
  {
   "cell_type": "markdown",
   "id": "82f4ea86",
   "metadata": {},
   "source": [
    "First we need to scale the continuous variable"
   ]
  },
  {
   "cell_type": "markdown",
   "id": "881f21aa",
   "metadata": {},
   "source": [
    "As continuous"
   ]
  },
  {
   "cell_type": "code",
   "execution_count": 198,
   "id": "3da52fab",
   "metadata": {},
   "outputs": [],
   "source": [
    "data_1 = data.copy()"
   ]
  },
  {
   "cell_type": "code",
   "execution_count": 199,
   "id": "544767a5",
   "metadata": {},
   "outputs": [],
   "source": [
    "from sklearn.preprocessing import StandardScaler"
   ]
  },
  {
   "cell_type": "code",
   "execution_count": 200,
   "id": "682bda68",
   "metadata": {},
   "outputs": [],
   "source": [
    "ss = StandardScaler()\n",
    "ss.fit(data_1.loc[:,['Age', 'Fare']])\n",
    "data_1.loc[:,['Age', 'Fare']] = ss.transform(data_1.loc[:,['Age', 'Fare']])"
   ]
  },
  {
   "cell_type": "code",
   "execution_count": 201,
   "id": "8717a366",
   "metadata": {},
   "outputs": [
    {
     "name": "stdout",
     "output_type": "stream",
     "text": [
      "[0.7833845960705542, 0.7968928504174252]\n"
     ]
    }
   ],
   "source": [
    "mean_0 = get_mean_scores(data_1, target, predictors)\n",
    "print(mean_0)"
   ]
  },
  {
   "cell_type": "code",
   "execution_count": 202,
   "id": "1bb80e3b",
   "metadata": {},
   "outputs": [
    {
     "name": "stdout",
     "output_type": "stream",
     "text": [
      "Forest:\n",
      "\tFare: 0.25449854340618466\n",
      "\tAge: 0.2749080807096461\n",
      "Logistic:\n",
      "\tFare: 0.08871253960098031\n",
      "\tAge: 0.4611759217121293\n"
     ]
    },
    {
     "data": {
      "image/png": "[encoded data removed]",
      "text/plain": [
       "<Figure size 432x288 with 2 Axes>"
      ]
     },
     "metadata": {
      "needs_background": "light"
     },
     "output_type": "display_data"
    }
   ],
   "source": [
    "importances_plot(data_1, target, predictors)"
   ]
  },
  {
   "cell_type": "markdown",
   "id": "e071422e",
   "metadata": {},
   "source": [
    "As ordinal"
   ]
  },
  {
   "cell_type": "code",
   "execution_count": 203,
   "id": "311530dc",
   "metadata": {},
   "outputs": [],
   "source": [
    "data_2 = data.copy()"
   ]
  },
  {
   "cell_type": "code",
   "execution_count": 204,
   "id": "f4ef6621",
   "metadata": {},
   "outputs": [],
   "source": [
    "def next_5_mult(x):\n",
    "    x = round(x)\n",
    "    return x + 5 - (x%5)\n",
    "\n",
    "age_dict = {}\n",
    "counter = 0\n",
    "for i in range(5,61,5):\n",
    "    age_dict[i] = counter\n",
    "    counter +=1\n",
    "\n",
    "data_2['Fare'] = pd.qcut(data['Fare'], q=15, labels=[*range(0,15,1)])\n",
    "data_2['Age'] = data_2['Age'].apply(lambda x: age_dict[next_5_mult(x)] if x<60 else age_dict[60])"
   ]
  },
  {
   "cell_type": "code",
   "execution_count": 205,
   "id": "04bf4b67",
   "metadata": {},
   "outputs": [
    {
     "name": "stdout",
     "output_type": "stream",
     "text": [
      "[0.7822547234950725, 0.7979850605737242]\n"
     ]
    }
   ],
   "source": [
    "mean_1 = get_mean_scores(data_2, target, predictors)\n",
    "print(mean_1)"
   ]
  },
  {
   "cell_type": "code",
   "execution_count": 206,
   "id": "be433540",
   "metadata": {},
   "outputs": [
    {
     "name": "stdout",
     "output_type": "stream",
     "text": [
      "Forest:\n",
      "\tFare: 0.2658073469154607\n",
      "\tAge: 0.27399719393662486\n",
      "Logistic:\n",
      "\tFare: 0.08871253960098031\n",
      "\tAge: 0.4611759217121293\n"
     ]
    },
    {
     "data": {
      "image/png": "[encoded data removed]",
      "text/plain": [
       "<Figure size 432x288 with 2 Axes>"
      ]
     },
     "metadata": {
      "needs_background": "light"
     },
     "output_type": "display_data"
    }
   ],
   "source": [
    "importances_plot(data_1, target, predictors)"
   ]
  },
  {
   "cell_type": "markdown",
   "id": "1a35c15b",
   "metadata": {},
   "source": [
    "Now training only with the two"
   ]
  },
  {
   "cell_type": "code",
   "execution_count": 207,
   "id": "32541ef4",
   "metadata": {},
   "outputs": [
    {
     "name": "stdout",
     "output_type": "stream",
     "text": [
      "[0.6633230807858892, 0.656619170171364]\n"
     ]
    }
   ],
   "source": [
    "mean_3 = get_mean_scores(data_1.loc[:,[\"Age\",\"Fare\"]], target, predictors)\n",
    "print(mean_3)"
   ]
  },
  {
   "cell_type": "code",
   "execution_count": 208,
   "id": "fa95b4b1",
   "metadata": {},
   "outputs": [
    {
     "name": "stdout",
     "output_type": "stream",
     "text": [
      "Forest:\n",
      "\tFare: 0.6194691509100119\n",
      "\tAge: 0.3805308490899882\n",
      "Logistic:\n",
      "\tFare: 0.7867567786962884\n",
      "\tAge: 0.205901052762001\n"
     ]
    },
    {
     "data": {
      "image/png": "[encoded data removed]",
      "text/plain": [
       "<Figure size 432x288 with 2 Axes>"
      ]
     },
     "metadata": {
      "needs_background": "light"
     },
     "output_type": "display_data"
    }
   ],
   "source": [
    "importances_plot(data_1.loc[:,[\"Age\",\"Fare\"]], target, predictors)"
   ]
  },
  {
   "cell_type": "code",
   "execution_count": 209,
   "id": "bb95d152",
   "metadata": {},
   "outputs": [
    {
     "name": "stdout",
     "output_type": "stream",
     "text": [
      "[0.6678865105768627, 0.6499027054171113]\n"
     ]
    }
   ],
   "source": [
    "mean_4 = get_mean_scores(data_2.loc[:,[\"Age\",\"Fare\"]], target, predictors)\n",
    "print(mean_4)"
   ]
  },
  {
   "cell_type": "code",
   "execution_count": 210,
   "id": "f5e58eda",
   "metadata": {},
   "outputs": [
    {
     "name": "stdout",
     "output_type": "stream",
     "text": [
      "Forest:\n",
      "\tFare: 0.6140672509374377\n",
      "\tAge: 0.38593274906256236\n",
      "Logistic:\n",
      "\tFare: 0.16818475500586297\n",
      "\tAge: 0.07635620593595158\n"
     ]
    },
    {
     "data": {
      "image/png": "[encoded data removed]",
      "text/plain": [
       "<Figure size 432x288 with 2 Axes>"
      ]
     },
     "metadata": {
      "needs_background": "light"
     },
     "output_type": "display_data"
    }
   ],
   "source": [
    "importances_plot(data_2.loc[:,[\"Age\",\"Fare\"]], target, predictors)"
   ]
  },
  {
   "cell_type": "markdown",
   "id": "28fce200",
   "metadata": {},
   "source": [
    "The test was not conclusive"
   ]
  },
  {
   "cell_type": "markdown",
   "id": "97cc7ed0",
   "metadata": {},
   "source": [
    "## Testing SibSp as binary"
   ]
  },
  {
   "cell_type": "code",
   "execution_count": 215,
   "id": "a26d16f3",
   "metadata": {},
   "outputs": [],
   "source": [
    "data_1 = data.copy()"
   ]
  },
  {
   "cell_type": "code",
   "execution_count": 216,
   "id": "2a0a2cbf",
   "metadata": {},
   "outputs": [],
   "source": [
    "# Scaling continuos data\n",
    "ss = StandardScaler()\n",
    "ss.fit(data_1.loc[:,['Age', 'Fare']])\n",
    "data_1.loc[:,['Age', 'Fare']] = ss.transform(data_1.loc[:,['Age', 'Fare']])"
   ]
  },
  {
   "cell_type": "code",
   "execution_count": 217,
   "id": "91543f08",
   "metadata": {},
   "outputs": [
    {
     "name": "stdout",
     "output_type": "stream",
     "text": [
      "[0.7833845960705542, 0.799114933149206]\n"
     ]
    }
   ],
   "source": [
    "mean_0 = get_mean_scores(data_1, target, predictors)\n",
    "print(mean_0)"
   ]
  },
  {
   "cell_type": "code",
   "execution_count": 218,
   "id": "64b72138",
   "metadata": {},
   "outputs": [
    {
     "name": "stdout",
     "output_type": "stream",
     "text": [
      "Forest:\n",
      "\tFare: 0.2751598018358032\n",
      "\tAge: 0.2778964839571339\n",
      "Logistic:\n",
      "\tFare: 0.08871253960098031\n",
      "\tAge: 0.4611759217121293\n"
     ]
    },
    {
     "data": {
      "image/png": "[encoded data removed]",
      "text/plain": [
       "<Figure size 432x288 with 2 Axes>"
      ]
     },
     "metadata": {
      "needs_background": "light"
     },
     "output_type": "display_data"
    }
   ],
   "source": [
    "importances_plot(data_1, target, predictors)"
   ]
  },
  {
   "cell_type": "code",
   "execution_count": 219,
   "id": "7c68dbb1",
   "metadata": {},
   "outputs": [],
   "source": [
    "data_2 = data.copy()"
   ]
  },
  {
   "cell_type": "code",
   "execution_count": 220,
   "id": "387199c9",
   "metadata": {},
   "outputs": [],
   "source": [
    "# Scaling continuos data\n",
    "ss = StandardScaler()\n",
    "ss.fit(data_2.loc[:,['Age', 'Fare']])\n",
    "data_2.loc[:,['Age', 'Fare']] = ss.transform(data_2.loc[:,['Age', 'Fare']])"
   ]
  },
  {
   "cell_type": "code",
   "execution_count": 221,
   "id": "3d8a5dff",
   "metadata": {},
   "outputs": [],
   "source": [
    "# Making SibSp binary\n",
    "data_2['SibSp'] = data_2['SibSp'].apply(lambda x: 1 if x>=1 else 0)"
   ]
  },
  {
   "cell_type": "code",
   "execution_count": 222,
   "id": "0c2469c6",
   "metadata": {},
   "outputs": [
    {
     "name": "stdout",
     "output_type": "stream",
     "text": [
      "[0.7845019145063084, 0.7968928504174252]\n"
     ]
    }
   ],
   "source": [
    "mean_0 = get_mean_scores(data_2, target, predictors)\n",
    "print(mean_0)"
   ]
  },
  {
   "cell_type": "code",
   "execution_count": 223,
   "id": "43708586",
   "metadata": {},
   "outputs": [
    {
     "name": "stdout",
     "output_type": "stream",
     "text": [
      "Forest:\n",
      "\tFare: 0.28095533921220944\n",
      "\tAge: 0.2792272651674939\n",
      "Logistic:\n",
      "\tFare: 0.040609898866044825\n",
      "\tAge: 0.4189260753655\n"
     ]
    },
    {
     "data": {
      "image/png": "[encoded data removed]",
      "text/plain": [
       "<Figure size 432x288 with 2 Axes>"
      ]
     },
     "metadata": {
      "needs_background": "light"
     },
     "output_type": "display_data"
    }
   ],
   "source": [
    "importances_plot(data_2, target, predictors)"
   ]
  },
  {
   "cell_type": "markdown",
   "id": "d0287829",
   "metadata": {},
   "source": [
    "#### Conclusion\n",
    "<br> Binary SibSp lowered the score and got less importance in results"
   ]
  },
  {
   "cell_type": "code",
   "execution_count": 224,
   "id": "1dd1ded0",
   "metadata": {},
   "outputs": [],
   "source": [
    "# Making new features"
   ]
  },
  {
   "cell_type": "code",
   "execution_count": null,
   "id": "2e6b0dfb",
   "metadata": {},
   "outputs": [],
   "source": []
  }
 ],
 "metadata": {
  "kernelspec": {
   "display_name": "Python 3 (ipykernel)",
   "language": "python",
   "name": "python3"
  },
  "language_info": {
   "codemirror_mode": {
    "name": "ipython",
    "version": 3
   },
   "file_extension": ".py",
   "mimetype": "text/x-python",
   "name": "python",
   "nbconvert_exporter": "python",
   "pygments_lexer": "ipython3",
   "version": "3.7.11"
  }
 },
 "nbformat": 4,
 "nbformat_minor": 5
}
