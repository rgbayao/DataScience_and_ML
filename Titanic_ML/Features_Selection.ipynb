{
 "cells": [
  {
   "cell_type": "code",
   "execution_count": 72,
   "id": "57a053eb",
   "metadata": {},
   "outputs": [],
   "source": [
    "from sklearn.linear_model import LogisticRegression\n",
    "from sklearn.tree import DecisionTreeClassifier\n",
    "from sklearn.ensemble import RandomForestClassifier\n",
    "from sklearn.model_selection import KFold"
   ]
  },
  {
   "cell_type": "code",
   "execution_count": 73,
   "id": "3cd4d93b",
   "metadata": {},
   "outputs": [],
   "source": [
    "predictors = [LogisticRegression(), RandomForestClassifier()]"
   ]
  },
  {
   "cell_type": "code",
   "execution_count": 74,
   "id": "ecd7699b",
   "metadata": {},
   "outputs": [],
   "source": [
    "kfold = KFold(n_splits=5)"
   ]
  },
  {
   "cell_type": "code",
   "execution_count": 75,
   "id": "34f73f1f",
   "metadata": {},
   "outputs": [],
   "source": [
    "def get_mean_scores(data, target, predictors):\n",
    "    mean_score = []\n",
    "    for i in predictors:\n",
    "        aux=[]\n",
    "        for train_index, test_index in kfold.split(data):\n",
    "            i.fit(data.iloc[train_index], target.iloc[train_index])\n",
    "            aux.append(i.score(data.iloc[test_index],target.iloc[test_index]))\n",
    "        mean_score.append(np.mean(aux))\n",
    "    return mean_score"
   ]
  },
  {
   "cell_type": "code",
   "execution_count": 76,
   "id": "d9cc9035",
   "metadata": {},
   "outputs": [],
   "source": [
    "def importances_plot(data, target, predictors): \n",
    "    feature_names = data.columns\n",
    "\n",
    "    predictors[0].fit(data,target)\n",
    "    importances = np.sqrt(np.square(predictors[0].coef_[0]))\n",
    "    logistic_importances = pd.Series(importances, index=feature_names)\n",
    "\n",
    "    predictors[1].fit(data,target)\n",
    "    importances = predictors[1].feature_importances_\n",
    "    std = np.std([\n",
    "        tree.feature_importances_ for tree in predictors[1].estimators_], axis=0)\n",
    "    forest_importances = pd.Series(importances, index=feature_names)\n",
    "\n",
    "    fig, ax = plt.subplots(ncols=2)\n",
    "    plt.sca(ax[0])\n",
    "    forest_importances.plot.bar(yerr=std, ax=ax[0])\n",
    "    ax[0].set_title(\"Feature importances using MDI\")\n",
    "    ax[0].set_ylabel(\"Mean decrease in impurity\")\n",
    "    plt.sca(ax[1])\n",
    "    logistic_importances.plot.bar(ax=ax[1])\n",
    "    ax[1].set_title(\"Logistic coeficients\")\n",
    "    ax[1].set_ylabel(\"|Coef|\")\n",
    "    fig.tight_layout()"
   ]
  },
  {
   "cell_type": "code",
   "execution_count": 77,
   "id": "3ede74f0",
   "metadata": {},
   "outputs": [],
   "source": [
    "import pandas as pd\n",
    "import seaborn as sns\n",
    "import matplotlib.pyplot as plt\n",
    "import numpy as np"
   ]
  },
  {
   "cell_type": "markdown",
   "id": "3ce70e2e",
   "metadata": {},
   "source": [
    "# Features Selections and Creation"
   ]
  },
  {
   "cell_type": "markdown",
   "id": "cab4d296",
   "metadata": {},
   "source": [
    "#### Changes proposed:\n",
    "<br> Parch as ordinal data for 0,1,2,3+\n",
    "<br> SibSp as bynary for 0 = no SibSp and 1 = 1 or more SibSp\n",
    "<br> Age-> fill with same mean and std, randomly, to avoid loosing a lot of data, then re-run without that to ensure that it don't affect negatively\n",
    "<br> Embarked, fill with most common (S), as it has only 2 missing, and might be excluded after all\n",
    "#### New data:\n",
    "<br> Pclass² * Age -> enlarge difference within classes and make an new estimator that showed relevance before\n",
    "<br> {male:1, female:-1} * Age -> enlarge relevance of Sex within Age\n",
    "<br> Sex  vs Pclass: f-1 = 1, f-2 = 2, f-3 = 3, m-1 = 4, m-2 = 5, m-3 = 6 "
   ]
  },
  {
   "cell_type": "code",
   "execution_count": 78,
   "id": "ed6f4c09",
   "metadata": {},
   "outputs": [],
   "source": [
    "data = pd.read_csv(\"train.csv\")"
   ]
  },
  {
   "cell_type": "code",
   "execution_count": 79,
   "id": "c3cfe098",
   "metadata": {},
   "outputs": [],
   "source": [
    "data.set_index('PassengerId', inplace=True)"
   ]
  },
  {
   "cell_type": "code",
   "execution_count": 80,
   "id": "32598343",
   "metadata": {},
   "outputs": [
    {
     "name": "stdout",
     "output_type": "stream",
     "text": [
      "<class 'pandas.core.frame.DataFrame'>\n",
      "Int64Index: 891 entries, 1 to 891\n",
      "Data columns (total 11 columns):\n",
      " #   Column    Non-Null Count  Dtype  \n",
      "---  ------    --------------  -----  \n",
      " 0   Survived  891 non-null    int64  \n",
      " 1   Pclass    891 non-null    int64  \n",
      " 2   Name      891 non-null    object \n",
      " 3   Sex       891 non-null    object \n",
      " 4   Age       714 non-null    float64\n",
      " 5   SibSp     891 non-null    int64  \n",
      " 6   Parch     891 non-null    int64  \n",
      " 7   Ticket    891 non-null    object \n",
      " 8   Fare      891 non-null    float64\n",
      " 9   Cabin     204 non-null    object \n",
      " 10  Embarked  889 non-null    object \n",
      "dtypes: float64(2), int64(4), object(5)\n",
      "memory usage: 83.5+ KB\n"
     ]
    }
   ],
   "source": [
    "data.info()"
   ]
  },
  {
   "cell_type": "markdown",
   "id": "c1733b10",
   "metadata": {},
   "source": [
    "#### Drop unused cols"
   ]
  },
  {
   "cell_type": "code",
   "execution_count": 81,
   "id": "f9d83ac2",
   "metadata": {},
   "outputs": [],
   "source": [
    "data.drop(['Name', 'Ticket', 'Cabin'], axis = 1, inplace = True)"
   ]
  },
  {
   "cell_type": "code",
   "execution_count": 82,
   "id": "71247bf6",
   "metadata": {
    "scrolled": true
   },
   "outputs": [
    {
     "name": "stdout",
     "output_type": "stream",
     "text": [
      "<class 'pandas.core.frame.DataFrame'>\n",
      "Int64Index: 891 entries, 1 to 891\n",
      "Data columns (total 8 columns):\n",
      " #   Column    Non-Null Count  Dtype  \n",
      "---  ------    --------------  -----  \n",
      " 0   Survived  891 non-null    int64  \n",
      " 1   Pclass    891 non-null    int64  \n",
      " 2   Sex       891 non-null    object \n",
      " 3   Age       714 non-null    float64\n",
      " 4   SibSp     891 non-null    int64  \n",
      " 5   Parch     891 non-null    int64  \n",
      " 6   Fare      891 non-null    float64\n",
      " 7   Embarked  889 non-null    object \n",
      "dtypes: float64(2), int64(4), object(2)\n",
      "memory usage: 62.6+ KB\n"
     ]
    }
   ],
   "source": [
    "data.info()"
   ]
  },
  {
   "cell_type": "code",
   "execution_count": 83,
   "id": "1e2ff0a9",
   "metadata": {},
   "outputs": [],
   "source": [
    "target = data['Survived']\n",
    "data.drop(['Survived'], axis=1, inplace=True)"
   ]
  },
  {
   "cell_type": "markdown",
   "id": "ed91ac9c",
   "metadata": {},
   "source": [
    "#### Making sex binary"
   ]
  },
  {
   "cell_type": "code",
   "execution_count": 84,
   "id": "90660ec3",
   "metadata": {},
   "outputs": [],
   "source": [
    "data['Sex'] = data['Sex'].apply(lambda x: 1 if x=='female' else 0)"
   ]
  },
  {
   "cell_type": "markdown",
   "id": "6b20e33f",
   "metadata": {},
   "source": [
    "#### Filling Embarked"
   ]
  },
  {
   "cell_type": "code",
   "execution_count": 85,
   "id": "62faafa6",
   "metadata": {
    "scrolled": true
   },
   "outputs": [],
   "source": [
    "data['Embarked'].fillna('S', inplace=True)"
   ]
  },
  {
   "cell_type": "markdown",
   "id": "6cf7b546",
   "metadata": {},
   "source": [
    "#### Get dummies"
   ]
  },
  {
   "cell_type": "code",
   "execution_count": 86,
   "id": "4dc4b3f3",
   "metadata": {},
   "outputs": [],
   "source": [
    "data = pd.get_dummies(data, \n",
    "                      prefix=[\"Embarked\"], \n",
    "                      columns=['Embarked'], \n",
    "                      drop_first=True)   "
   ]
  },
  {
   "cell_type": "code",
   "execution_count": 87,
   "id": "55a0611c",
   "metadata": {},
   "outputs": [
    {
     "data": {
      "text/html": [
       "<div>\n",
       "<style scoped>\n",
       "    .dataframe tbody tr th:only-of-type {\n",
       "        vertical-align: middle;\n",
       "    }\n",
       "\n",
       "    .dataframe tbody tr th {\n",
       "        vertical-align: top;\n",
       "    }\n",
       "\n",
       "    .dataframe thead th {\n",
       "        text-align: right;\n",
       "    }\n",
       "</style>\n",
       "<table border=\"1\" class=\"dataframe\">\n",
       "  <thead>\n",
       "    <tr style=\"text-align: right;\">\n",
       "      <th></th>\n",
       "      <th>Pclass</th>\n",
       "      <th>Sex</th>\n",
       "      <th>Age</th>\n",
       "      <th>SibSp</th>\n",
       "      <th>Parch</th>\n",
       "      <th>Fare</th>\n",
       "      <th>Embarked_Q</th>\n",
       "      <th>Embarked_S</th>\n",
       "    </tr>\n",
       "    <tr>\n",
       "      <th>PassengerId</th>\n",
       "      <th></th>\n",
       "      <th></th>\n",
       "      <th></th>\n",
       "      <th></th>\n",
       "      <th></th>\n",
       "      <th></th>\n",
       "      <th></th>\n",
       "      <th></th>\n",
       "    </tr>\n",
       "  </thead>\n",
       "  <tbody>\n",
       "    <tr>\n",
       "      <th>1</th>\n",
       "      <td>3</td>\n",
       "      <td>0</td>\n",
       "      <td>22.0</td>\n",
       "      <td>1</td>\n",
       "      <td>0</td>\n",
       "      <td>7.2500</td>\n",
       "      <td>0</td>\n",
       "      <td>1</td>\n",
       "    </tr>\n",
       "    <tr>\n",
       "      <th>2</th>\n",
       "      <td>1</td>\n",
       "      <td>1</td>\n",
       "      <td>38.0</td>\n",
       "      <td>1</td>\n",
       "      <td>0</td>\n",
       "      <td>71.2833</td>\n",
       "      <td>0</td>\n",
       "      <td>0</td>\n",
       "    </tr>\n",
       "    <tr>\n",
       "      <th>3</th>\n",
       "      <td>3</td>\n",
       "      <td>1</td>\n",
       "      <td>26.0</td>\n",
       "      <td>0</td>\n",
       "      <td>0</td>\n",
       "      <td>7.9250</td>\n",
       "      <td>0</td>\n",
       "      <td>1</td>\n",
       "    </tr>\n",
       "    <tr>\n",
       "      <th>4</th>\n",
       "      <td>1</td>\n",
       "      <td>1</td>\n",
       "      <td>35.0</td>\n",
       "      <td>1</td>\n",
       "      <td>0</td>\n",
       "      <td>53.1000</td>\n",
       "      <td>0</td>\n",
       "      <td>1</td>\n",
       "    </tr>\n",
       "    <tr>\n",
       "      <th>5</th>\n",
       "      <td>3</td>\n",
       "      <td>0</td>\n",
       "      <td>35.0</td>\n",
       "      <td>0</td>\n",
       "      <td>0</td>\n",
       "      <td>8.0500</td>\n",
       "      <td>0</td>\n",
       "      <td>1</td>\n",
       "    </tr>\n",
       "  </tbody>\n",
       "</table>\n",
       "</div>"
      ],
      "text/plain": [
       "             Pclass  Sex   Age  SibSp  Parch     Fare  Embarked_Q  Embarked_S\n",
       "PassengerId                                                                  \n",
       "1                 3    0  22.0      1      0   7.2500           0           1\n",
       "2                 1    1  38.0      1      0  71.2833           0           0\n",
       "3                 3    1  26.0      0      0   7.9250           0           1\n",
       "4                 1    1  35.0      1      0  53.1000           0           1\n",
       "5                 3    0  35.0      0      0   8.0500           0           1"
      ]
     },
     "execution_count": 87,
     "metadata": {},
     "output_type": "execute_result"
    }
   ],
   "source": [
    "data.head()"
   ]
  },
  {
   "cell_type": "code",
   "execution_count": 88,
   "id": "1e3515a8",
   "metadata": {
    "scrolled": true
   },
   "outputs": [
    {
     "name": "stdout",
     "output_type": "stream",
     "text": [
      "<class 'pandas.core.frame.DataFrame'>\n",
      "Int64Index: 891 entries, 1 to 891\n",
      "Data columns (total 8 columns):\n",
      " #   Column      Non-Null Count  Dtype  \n",
      "---  ------      --------------  -----  \n",
      " 0   Pclass      891 non-null    int64  \n",
      " 1   Sex         891 non-null    int64  \n",
      " 2   Age         714 non-null    float64\n",
      " 3   SibSp       891 non-null    int64  \n",
      " 4   Parch       891 non-null    int64  \n",
      " 5   Fare        891 non-null    float64\n",
      " 6   Embarked_Q  891 non-null    uint8  \n",
      " 7   Embarked_S  891 non-null    uint8  \n",
      "dtypes: float64(2), int64(4), uint8(2)\n",
      "memory usage: 50.5 KB\n"
     ]
    }
   ],
   "source": [
    "data.info()"
   ]
  },
  {
   "cell_type": "markdown",
   "id": "87f31228",
   "metadata": {},
   "source": [
    "#### Filling Age"
   ]
  },
  {
   "cell_type": "code",
   "execution_count": 89,
   "id": "885df4b3",
   "metadata": {},
   "outputs": [],
   "source": [
    "mean = data['Age'].mean()\n",
    "std = data['Age'].std()\n",
    "ammount = data['Age'].isna().sum()\n",
    "replace = np.random.randint(mean-std, mean+std, size =ammount)\n",
    "\n",
    "new_age = []\n",
    "it = iter(replace)\n",
    "for i in data['Age']:\n",
    "    if np.isnan(i):\n",
    "        new_age.append(next(it))\n",
    "    else:\n",
    "        new_age.append(i)\n",
    "data_1 = data.copy()\n",
    "        \n",
    "data_1['Age'] = new_age"
   ]
  },
  {
   "cell_type": "code",
   "execution_count": 90,
   "id": "ac686f90",
   "metadata": {},
   "outputs": [],
   "source": [
    "nan_index = data.Age.notna()\n",
    "data_2 = data.copy()\n",
    "data_2 = data.loc[nan_index].reset_index(drop=True)\n",
    "target_2 = target.loc[nan_index]"
   ]
  },
  {
   "cell_type": "code",
   "execution_count": 91,
   "id": "9858857a",
   "metadata": {},
   "outputs": [
    {
     "data": {
      "text/plain": [
       "[0.7901261691042621, 0.7957818090515347]"
      ]
     },
     "execution_count": 91,
     "metadata": {},
     "output_type": "execute_result"
    }
   ],
   "source": [
    "from sklearn.preprocessing import StandardScaler\n",
    "\n",
    "ss = StandardScaler()\n",
    "ss.fit(data_1.loc[:,['Age', 'Fare']])\n",
    "data_1.loc[:,['Age', 'Fare']] = ss.transform(data_1.loc[:,['Age', 'Fare']])\n",
    "get_mean_scores(data_1, target, predictors)"
   ]
  },
  {
   "cell_type": "code",
   "execution_count": 92,
   "id": "97fa4ca8",
   "metadata": {},
   "outputs": [
    {
     "data": {
      "text/plain": [
       "[0.6064512951836896, 0.5448734364227322]"
      ]
     },
     "execution_count": 92,
     "metadata": {},
     "output_type": "execute_result"
    }
   ],
   "source": [
    "from sklearn.preprocessing import StandardScaler\n",
    "\n",
    "ss = StandardScaler()\n",
    "ss.fit(data_2.loc[:,['Age', 'Fare']])\n",
    "data_2.loc[:,['Age', 'Fare']] = ss.transform(data_2.loc[:,['Age', 'Fare']])\n",
    "get_mean_scores(data_2, target, predictors)"
   ]
  },
  {
   "cell_type": "markdown",
   "id": "93dc1626",
   "metadata": {},
   "source": [
    "Therefore, dropping data will remove important information, the strategy of keeping the mean and std seems to be a better approach."
   ]
  },
  {
   "cell_type": "code",
   "execution_count": 93,
   "id": "dd20caac",
   "metadata": {},
   "outputs": [],
   "source": [
    "#Applying the decision above\n",
    "mean = data['Age'].mean()\n",
    "std = data['Age'].std()\n",
    "ammount = data['Age'].isna().sum()\n",
    "replace = np.random.randint(mean-std, mean+std, size =ammount)\n",
    "\n",
    "new_age = []\n",
    "it = iter(replace)\n",
    "for i in data['Age']:\n",
    "    if np.isnan(i):\n",
    "        new_age.append(next(it))\n",
    "    else:\n",
    "        new_age.append(i)\n",
    "data['Age'] = new_age"
   ]
  },
  {
   "cell_type": "code",
   "execution_count": 94,
   "id": "7e395ca9",
   "metadata": {},
   "outputs": [
    {
     "name": "stdout",
     "output_type": "stream",
     "text": [
      "<class 'pandas.core.frame.DataFrame'>\n",
      "Int64Index: 891 entries, 1 to 891\n",
      "Data columns (total 8 columns):\n",
      " #   Column      Non-Null Count  Dtype  \n",
      "---  ------      --------------  -----  \n",
      " 0   Pclass      891 non-null    int64  \n",
      " 1   Sex         891 non-null    int64  \n",
      " 2   Age         891 non-null    float64\n",
      " 3   SibSp       891 non-null    int64  \n",
      " 4   Parch       891 non-null    int64  \n",
      " 5   Fare        891 non-null    float64\n",
      " 6   Embarked_Q  891 non-null    uint8  \n",
      " 7   Embarked_S  891 non-null    uint8  \n",
      "dtypes: float64(2), int64(4), uint8(2)\n",
      "memory usage: 50.5 KB\n"
     ]
    }
   ],
   "source": [
    "data.info()"
   ]
  },
  {
   "cell_type": "markdown",
   "id": "29a5b116",
   "metadata": {},
   "source": [
    "#### Making parch in [0,1,2,3+]"
   ]
  },
  {
   "cell_type": "code",
   "execution_count": 95,
   "id": "02250f90",
   "metadata": {},
   "outputs": [],
   "source": [
    "data['Parch'] = data['Parch'].apply(lambda x: 3 if x>3 else x)"
   ]
  },
  {
   "cell_type": "markdown",
   "id": "895f498b",
   "metadata": {},
   "source": [
    "# Testing some changes"
   ]
  },
  {
   "cell_type": "markdown",
   "id": "d90c6d2e",
   "metadata": {},
   "source": [
    "# Checking Ordinal vs Continuos"
   ]
  },
  {
   "cell_type": "markdown",
   "id": "43800605",
   "metadata": {},
   "source": [
    "It will be evaluated the mean score in a K-Fold test and the feature importance when changing Age and Fare to ordinal data"
   ]
  },
  {
   "cell_type": "markdown",
   "id": "82f4ea86",
   "metadata": {},
   "source": [
    "First we need to scale the continuous variable"
   ]
  },
  {
   "cell_type": "markdown",
   "id": "881f21aa",
   "metadata": {},
   "source": [
    "As continuous"
   ]
  },
  {
   "cell_type": "code",
   "execution_count": 96,
   "id": "3da52fab",
   "metadata": {},
   "outputs": [],
   "source": [
    "data_1 = data.copy()"
   ]
  },
  {
   "cell_type": "code",
   "execution_count": 97,
   "id": "544767a5",
   "metadata": {},
   "outputs": [],
   "source": [
    "from sklearn.preprocessing import StandardScaler"
   ]
  },
  {
   "cell_type": "code",
   "execution_count": 98,
   "id": "682bda68",
   "metadata": {},
   "outputs": [],
   "source": [
    "ss = StandardScaler()\n",
    "ss.fit(data_1.loc[:,['Age', 'Fare']])\n",
    "data_1.loc[:,['Age', 'Fare']] = ss.transform(data_1.loc[:,['Age', 'Fare']])"
   ]
  },
  {
   "cell_type": "code",
   "execution_count": 99,
   "id": "8717a366",
   "metadata": {},
   "outputs": [
    {
     "name": "stdout",
     "output_type": "stream",
     "text": [
      "[0.7845081915761722, 0.8036344234511331]\n"
     ]
    }
   ],
   "source": [
    "mean_0 = get_mean_scores(data_1, target, predictors)\n",
    "print(mean_0)"
   ]
  },
  {
   "cell_type": "code",
   "execution_count": 100,
   "id": "1bb80e3b",
   "metadata": {
    "scrolled": false
   },
   "outputs": [
    {
     "data": {
      "image/png": "[encoded data removed]",
      "text/plain": [
       "<Figure size 432x288 with 2 Axes>"
      ]
     },
     "metadata": {
      "needs_background": "light"
     },
     "output_type": "display_data"
    }
   ],
   "source": [
    "importances_plot(data_1, target, predictors)"
   ]
  },
  {
   "cell_type": "markdown",
   "id": "e071422e",
   "metadata": {},
   "source": [
    "As ordinal"
   ]
  },
  {
   "cell_type": "code",
   "execution_count": 101,
   "id": "311530dc",
   "metadata": {},
   "outputs": [],
   "source": [
    "data_2 = data.copy()"
   ]
  },
  {
   "cell_type": "code",
   "execution_count": 102,
   "id": "f4ef6621",
   "metadata": {},
   "outputs": [],
   "source": [
    "def next_5_mult(x):\n",
    "    x = round(x)\n",
    "    return x + 5 - (x%5)\n",
    "\n",
    "age_dict = {}\n",
    "counter = 0\n",
    "for i in range(5,61,5):\n",
    "    age_dict[i] = counter\n",
    "    counter +=1\n",
    "\n",
    "data_2['Fare'] = pd.qcut(data['Fare'], q=15, labels=[*range(0,15,1)])\n",
    "data_2['Age'] = data_2['Age'].apply(lambda x: age_dict[next_5_mult(x)] if x<60 else age_dict[60])"
   ]
  },
  {
   "cell_type": "code",
   "execution_count": 103,
   "id": "04bf4b67",
   "metadata": {},
   "outputs": [
    {
     "name": "stdout",
     "output_type": "stream",
     "text": [
      "[0.77890276818781, 0.8103132257862031]\n"
     ]
    }
   ],
   "source": [
    "mean_1 = get_mean_scores(data_2, target, predictors)\n",
    "print(mean_1)"
   ]
  },
  {
   "cell_type": "code",
   "execution_count": 104,
   "id": "be433540",
   "metadata": {
    "scrolled": false
   },
   "outputs": [
    {
     "data": {
      "image/png": "[encoded data removed]",
      "text/plain": [
       "<Figure size 432x288 with 2 Axes>"
      ]
     },
     "metadata": {
      "needs_background": "light"
     },
     "output_type": "display_data"
    }
   ],
   "source": [
    "importances_plot(data_1, target, predictors)"
   ]
  },
  {
   "cell_type": "markdown",
   "id": "1a35c15b",
   "metadata": {},
   "source": [
    "Now training only with the two"
   ]
  },
  {
   "cell_type": "code",
   "execution_count": 105,
   "id": "32541ef4",
   "metadata": {},
   "outputs": [
    {
     "name": "stdout",
     "output_type": "stream",
     "text": [
      "[0.6633230807858892, 0.6464942564810746]\n"
     ]
    }
   ],
   "source": [
    "mean_3 = get_mean_scores(data_1.loc[:,[\"Age\",\"Fare\"]], target, predictors)\n",
    "print(mean_3)"
   ]
  },
  {
   "cell_type": "code",
   "execution_count": 106,
   "id": "fa95b4b1",
   "metadata": {},
   "outputs": [
    {
     "data": {
      "image/png": "[encoded data removed]",
      "text/plain": [
       "<Figure size 432x288 with 2 Axes>"
      ]
     },
     "metadata": {
      "needs_background": "light"
     },
     "output_type": "display_data"
    }
   ],
   "source": [
    "importances_plot(data_1.loc[:,[\"Age\",\"Fare\"]], target, predictors)"
   ]
  },
  {
   "cell_type": "code",
   "execution_count": 107,
   "id": "bb95d152",
   "metadata": {},
   "outputs": [
    {
     "name": "stdout",
     "output_type": "stream",
     "text": [
      "[0.6690163831523444, 0.6285669449500972]\n"
     ]
    }
   ],
   "source": [
    "mean_4 = get_mean_scores(data_2.loc[:,[\"Age\",\"Fare\"]], target, predictors)\n",
    "print(mean_4)"
   ]
  },
  {
   "cell_type": "code",
   "execution_count": 108,
   "id": "f5e58eda",
   "metadata": {},
   "outputs": [
    {
     "data": {
      "image/png": "[encoded data removed]",
      "text/plain": [
       "<Figure size 432x288 with 2 Axes>"
      ]
     },
     "metadata": {
      "needs_background": "light"
     },
     "output_type": "display_data"
    }
   ],
   "source": [
    "importances_plot(data_2.loc[:,[\"Age\",\"Fare\"]], target, predictors)"
   ]
  },
  {
   "cell_type": "markdown",
   "id": "28fce200",
   "metadata": {},
   "source": [
    "The test was not conclusive"
   ]
  },
  {
   "cell_type": "markdown",
   "id": "97cc7ed0",
   "metadata": {},
   "source": [
    "## Testing SibSp as binary"
   ]
  },
  {
   "cell_type": "code",
   "execution_count": 109,
   "id": "a26d16f3",
   "metadata": {},
   "outputs": [],
   "source": [
    "data_1 = data.copy()"
   ]
  },
  {
   "cell_type": "code",
   "execution_count": 110,
   "id": "2a0a2cbf",
   "metadata": {},
   "outputs": [],
   "source": [
    "# Scaling continuos data\n",
    "ss = StandardScaler()\n",
    "ss.fit(data_1.loc[:,['Age', 'Fare']])\n",
    "data_1.loc[:,['Age', 'Fare']] = ss.transform(data_1.loc[:,['Age', 'Fare']])"
   ]
  },
  {
   "cell_type": "code",
   "execution_count": 111,
   "id": "91543f08",
   "metadata": {},
   "outputs": [
    {
     "name": "stdout",
     "output_type": "stream",
     "text": [
      "[0.7845081915761722, 0.8081099742640137]\n"
     ]
    }
   ],
   "source": [
    "mean_0 = get_mean_scores(data_1, target, predictors)\n",
    "print(mean_0)"
   ]
  },
  {
   "cell_type": "code",
   "execution_count": 112,
   "id": "64b72138",
   "metadata": {},
   "outputs": [
    {
     "data": {
      "image/png": "[encoded data removed]",
      "text/plain": [
       "<Figure size 432x288 with 2 Axes>"
      ]
     },
     "metadata": {
      "needs_background": "light"
     },
     "output_type": "display_data"
    }
   ],
   "source": [
    "importances_plot(data_1, target, predictors)"
   ]
  },
  {
   "cell_type": "code",
   "execution_count": 113,
   "id": "7c68dbb1",
   "metadata": {},
   "outputs": [],
   "source": [
    "data_2 = data.copy()"
   ]
  },
  {
   "cell_type": "code",
   "execution_count": 114,
   "id": "387199c9",
   "metadata": {},
   "outputs": [],
   "source": [
    "# Scaling continuos data\n",
    "ss = StandardScaler()\n",
    "ss.fit(data_2.loc[:,['Age', 'Fare']])\n",
    "data_2.loc[:,['Age', 'Fare']] = ss.transform(data_2.loc[:,['Age', 'Fare']])"
   ]
  },
  {
   "cell_type": "code",
   "execution_count": 115,
   "id": "3d8a5dff",
   "metadata": {},
   "outputs": [],
   "source": [
    "# Making SibSp binary\n",
    "data_2['SibSp'] = data_2['SibSp'].apply(lambda x: 1 if x>=1 else 0)"
   ]
  },
  {
   "cell_type": "code",
   "execution_count": 116,
   "id": "0c2469c6",
   "metadata": {},
   "outputs": [
    {
     "name": "stdout",
     "output_type": "stream",
     "text": [
      "[0.7845081915761722, 0.8058690603226413]\n"
     ]
    }
   ],
   "source": [
    "mean_0 = get_mean_scores(data_2, target, predictors)\n",
    "print(mean_0)"
   ]
  },
  {
   "cell_type": "code",
   "execution_count": 117,
   "id": "43708586",
   "metadata": {},
   "outputs": [
    {
     "data": {
      "image/png": "[encoded data removed]",
      "text/plain": [
       "<Figure size 432x288 with 2 Axes>"
      ]
     },
     "metadata": {
      "needs_background": "light"
     },
     "output_type": "display_data"
    }
   ],
   "source": [
    "importances_plot(data_2, target, predictors)"
   ]
  },
  {
   "cell_type": "markdown",
   "id": "d0287829",
   "metadata": {},
   "source": [
    "#### Conclusion\n",
    "<br> Binary SibSp lowered the score and got less importance in results"
   ]
  },
  {
   "cell_type": "markdown",
   "id": "278f8b6f",
   "metadata": {},
   "source": [
    "# New Features\n",
    "\n",
    "### -P_class * Age(categorical)\n",
    "### -Pclass related to Sex"
   ]
  },
  {
   "cell_type": "code",
   "execution_count": 118,
   "id": "1dd1ded0",
   "metadata": {},
   "outputs": [],
   "source": [
    "# Making new features\n",
    "#p_class * age(cat)\n",
    "#p_class and sex\n",
    "pclass_sex_dict = {'f1': 1,\"f2\":2,\"f3\":3,\n",
    "                  \"m1\":4, \"m2\":5,\"m3\":6}\n",
    "\n",
    "data['pclass_age'] = pd.cut(data['Age'], bins=[*range(0,81,5)],labels=[*range(0,16,1)])\n",
    "\n",
    "pclass_age = []\n",
    "pclass_sex = []\n",
    "for index, row in data.iterrows():\n",
    "    if row['Sex'] == 1:\n",
    "        aux = 'f'\n",
    "    else:\n",
    "        aux='m'\n",
    "    aux += str(int(row['Pclass']))\n",
    "    \n",
    "    pclass_age.append(row['pclass_age'] * row['Pclass'])\n",
    "    \n",
    "    pclass_sex.append(pclass_sex_dict[aux])\n",
    "\n",
    "data['pclass_age'] = pclass_age\n",
    "data['pclass_sex'] = pclass_sex\n",
    "data['pclass_age'] = data['pclass_age'].astype(int)"
   ]
  },
  {
   "cell_type": "code",
   "execution_count": 119,
   "id": "2e6b0dfb",
   "metadata": {},
   "outputs": [
    {
     "data": {
      "text/html": [
       "<div>\n",
       "<style scoped>\n",
       "    .dataframe tbody tr th:only-of-type {\n",
       "        vertical-align: middle;\n",
       "    }\n",
       "\n",
       "    .dataframe tbody tr th {\n",
       "        vertical-align: top;\n",
       "    }\n",
       "\n",
       "    .dataframe thead th {\n",
       "        text-align: right;\n",
       "    }\n",
       "</style>\n",
       "<table border=\"1\" class=\"dataframe\">\n",
       "  <thead>\n",
       "    <tr style=\"text-align: right;\">\n",
       "      <th></th>\n",
       "      <th>Pclass</th>\n",
       "      <th>Sex</th>\n",
       "      <th>Age</th>\n",
       "      <th>SibSp</th>\n",
       "      <th>Parch</th>\n",
       "      <th>Fare</th>\n",
       "      <th>Embarked_Q</th>\n",
       "      <th>Embarked_S</th>\n",
       "      <th>pclass_age</th>\n",
       "      <th>pclass_sex</th>\n",
       "    </tr>\n",
       "    <tr>\n",
       "      <th>PassengerId</th>\n",
       "      <th></th>\n",
       "      <th></th>\n",
       "      <th></th>\n",
       "      <th></th>\n",
       "      <th></th>\n",
       "      <th></th>\n",
       "      <th></th>\n",
       "      <th></th>\n",
       "      <th></th>\n",
       "      <th></th>\n",
       "    </tr>\n",
       "  </thead>\n",
       "  <tbody>\n",
       "    <tr>\n",
       "      <th>1</th>\n",
       "      <td>3</td>\n",
       "      <td>0</td>\n",
       "      <td>22.0</td>\n",
       "      <td>1</td>\n",
       "      <td>0</td>\n",
       "      <td>7.2500</td>\n",
       "      <td>0</td>\n",
       "      <td>1</td>\n",
       "      <td>12</td>\n",
       "      <td>6</td>\n",
       "    </tr>\n",
       "    <tr>\n",
       "      <th>2</th>\n",
       "      <td>1</td>\n",
       "      <td>1</td>\n",
       "      <td>38.0</td>\n",
       "      <td>1</td>\n",
       "      <td>0</td>\n",
       "      <td>71.2833</td>\n",
       "      <td>0</td>\n",
       "      <td>0</td>\n",
       "      <td>7</td>\n",
       "      <td>1</td>\n",
       "    </tr>\n",
       "    <tr>\n",
       "      <th>3</th>\n",
       "      <td>3</td>\n",
       "      <td>1</td>\n",
       "      <td>26.0</td>\n",
       "      <td>0</td>\n",
       "      <td>0</td>\n",
       "      <td>7.9250</td>\n",
       "      <td>0</td>\n",
       "      <td>1</td>\n",
       "      <td>15</td>\n",
       "      <td>3</td>\n",
       "    </tr>\n",
       "    <tr>\n",
       "      <th>4</th>\n",
       "      <td>1</td>\n",
       "      <td>1</td>\n",
       "      <td>35.0</td>\n",
       "      <td>1</td>\n",
       "      <td>0</td>\n",
       "      <td>53.1000</td>\n",
       "      <td>0</td>\n",
       "      <td>1</td>\n",
       "      <td>6</td>\n",
       "      <td>1</td>\n",
       "    </tr>\n",
       "    <tr>\n",
       "      <th>5</th>\n",
       "      <td>3</td>\n",
       "      <td>0</td>\n",
       "      <td>35.0</td>\n",
       "      <td>0</td>\n",
       "      <td>0</td>\n",
       "      <td>8.0500</td>\n",
       "      <td>0</td>\n",
       "      <td>1</td>\n",
       "      <td>18</td>\n",
       "      <td>6</td>\n",
       "    </tr>\n",
       "  </tbody>\n",
       "</table>\n",
       "</div>"
      ],
      "text/plain": [
       "             Pclass  Sex   Age  SibSp  Parch     Fare  Embarked_Q  Embarked_S  \\\n",
       "PassengerId                                                                     \n",
       "1                 3    0  22.0      1      0   7.2500           0           1   \n",
       "2                 1    1  38.0      1      0  71.2833           0           0   \n",
       "3                 3    1  26.0      0      0   7.9250           0           1   \n",
       "4                 1    1  35.0      1      0  53.1000           0           1   \n",
       "5                 3    0  35.0      0      0   8.0500           0           1   \n",
       "\n",
       "             pclass_age  pclass_sex  \n",
       "PassengerId                          \n",
       "1                    12           6  \n",
       "2                     7           1  \n",
       "3                    15           3  \n",
       "4                     6           1  \n",
       "5                    18           6  "
      ]
     },
     "execution_count": 119,
     "metadata": {},
     "output_type": "execute_result"
    }
   ],
   "source": [
    "data.head()"
   ]
  },
  {
   "cell_type": "code",
   "execution_count": 120,
   "id": "8ba70564",
   "metadata": {},
   "outputs": [],
   "source": [
    "data_1 = data.copy()\n",
    "ss = StandardScaler()\n",
    "ss.fit(data_1.loc[:,['Age', 'Fare','pclass_age']])\n",
    "data_1.loc[:,['Age', 'Fare','pclass_age']] = ss.transform(data_1.loc[:,['Age', 'Fare','pclass_age']])"
   ]
  },
  {
   "cell_type": "code",
   "execution_count": 121,
   "id": "1ed8eb74",
   "metadata": {},
   "outputs": [],
   "source": [
    "from sklearn.linear_model import LogisticRegression\n",
    "from sklearn.svm import SVC\n",
    "from sklearn.tree import DecisionTreeClassifier\n",
    "from sklearn.ensemble import RandomForestClassifier\n",
    "from sklearn.naive_bayes import GaussianNB"
   ]
  },
  {
   "cell_type": "code",
   "execution_count": 122,
   "id": "96a0c5b9",
   "metadata": {},
   "outputs": [],
   "source": [
    "predictors_1=[LogisticRegression(),SVC(),DecisionTreeClassifier(),RandomForestClassifier(),GaussianNB()]"
   ]
  },
  {
   "cell_type": "code",
   "execution_count": 123,
   "id": "3124d6ed",
   "metadata": {
    "scrolled": false
   },
   "outputs": [
    {
     "data": {
      "text/plain": [
       "[0.7833783190006904,\n",
       " 0.8125415855878476,\n",
       " 0.7688531793358859,\n",
       " 0.8148327160881301,\n",
       " 0.7811876216182287]"
      ]
     },
     "execution_count": 123,
     "metadata": {},
     "output_type": "execute_result"
    }
   ],
   "source": [
    "get_mean_scores(data_1, target, predictors_1)"
   ]
  },
  {
   "cell_type": "code",
   "execution_count": 124,
   "id": "509d9162",
   "metadata": {},
   "outputs": [
    {
     "data": {
      "image/png": "[encoded data removed]",
      "text/plain": [
       "<Figure size 432x288 with 2 Axes>"
      ]
     },
     "metadata": {
      "needs_background": "light"
     },
     "output_type": "display_data"
    }
   ],
   "source": [
    "importances_plot(data_1, target, predictors)"
   ]
  },
  {
   "cell_type": "markdown",
   "id": "f305438f",
   "metadata": {},
   "source": [
    "### Dropping Embarked_Q, Embarked_S \n",
    "\n",
    "as the two have low importance in data"
   ]
  },
  {
   "cell_type": "code",
   "execution_count": 125,
   "id": "94765083",
   "metadata": {},
   "outputs": [],
   "source": [
    "data_2 = data.copy()\n",
    "data_2.drop([\"Embarked_Q\", \"Embarked_S\"], axis=1, inplace=True)\n",
    "ss = StandardScaler()\n",
    "ss.fit(data_2.loc[:,['Age', 'Fare','pclass_age']])\n",
    "data_2.loc[:,['Age', 'Fare','pclass_age']] = ss.transform(data_2.loc[:,['Age', 'Fare','pclass_age']])"
   ]
  },
  {
   "cell_type": "code",
   "execution_count": 126,
   "id": "78cb956f",
   "metadata": {},
   "outputs": [
    {
     "data": {
      "text/plain": [
       "[0.7777728956123281,\n",
       " 0.8136714581633292,\n",
       " 0.7632226476680686,\n",
       " 0.8114870378507313,\n",
       " 0.7778231121712385]"
      ]
     },
     "execution_count": 126,
     "metadata": {},
     "output_type": "execute_result"
    }
   ],
   "source": [
    "get_mean_scores(data_2, target, predictors_1)"
   ]
  },
  {
   "cell_type": "code",
   "execution_count": 127,
   "id": "8488dcd8",
   "metadata": {},
   "outputs": [
    {
     "data": {
      "image/png": "[encoded data removed]",
      "text/plain": [
       "<Figure size 432x288 with 2 Axes>"
      ]
     },
     "metadata": {
      "needs_background": "light"
     },
     "output_type": "display_data"
    }
   ],
   "source": [
    "importances_plot(data_2, target, predictors)"
   ]
  },
  {
   "cell_type": "markdown",
   "id": "434a9ffa",
   "metadata": {},
   "source": [
    "No significant lost in score"
   ]
  },
  {
   "cell_type": "code",
   "execution_count": 128,
   "id": "796eb0a2",
   "metadata": {},
   "outputs": [],
   "source": [
    "data.drop([\"Embarked_Q\", \"Embarked_S\"], axis=1, inplace=True)"
   ]
  },
  {
   "cell_type": "markdown",
   "id": "bc430afa",
   "metadata": {},
   "source": [
    "The pclass_sex seems to have better results than p_class alone or than Sex alone, but using both make data redundant. It will be evaluated the removal of it or the removal of the other two."
   ]
  },
  {
   "cell_type": "markdown",
   "id": "076563ed",
   "metadata": {},
   "source": [
    "#### Try: remove pclass and sex"
   ]
  },
  {
   "cell_type": "code",
   "execution_count": 129,
   "id": "a1d37a0a",
   "metadata": {},
   "outputs": [],
   "source": [
    "data_without_pclass_and_sex = data.copy()\n",
    "data_without_pclass_and_sex.drop([\"Pclass\", \"Sex\"], axis=1, inplace=True)\n",
    "ss = StandardScaler()\n",
    "ss.fit(data_without_pclass_and_sex.loc[:,['Age','Fare','pclass_age']])\n",
    "data_without_pclass_and_sex.loc[:,['Age','Fare','pclass_age']] = ss.transform(data_without_pclass_and_sex.loc[:,['Age','Fare','pclass_age']])"
   ]
  },
  {
   "cell_type": "code",
   "execution_count": 130,
   "id": "edd3101e",
   "metadata": {},
   "outputs": [
    {
     "data": {
      "text/html": [
       "<div>\n",
       "<style scoped>\n",
       "    .dataframe tbody tr th:only-of-type {\n",
       "        vertical-align: middle;\n",
       "    }\n",
       "\n",
       "    .dataframe tbody tr th {\n",
       "        vertical-align: top;\n",
       "    }\n",
       "\n",
       "    .dataframe thead th {\n",
       "        text-align: right;\n",
       "    }\n",
       "</style>\n",
       "<table border=\"1\" class=\"dataframe\">\n",
       "  <thead>\n",
       "    <tr style=\"text-align: right;\">\n",
       "      <th></th>\n",
       "      <th>Age</th>\n",
       "      <th>SibSp</th>\n",
       "      <th>Parch</th>\n",
       "      <th>Fare</th>\n",
       "      <th>pclass_age</th>\n",
       "      <th>pclass_sex</th>\n",
       "    </tr>\n",
       "    <tr>\n",
       "      <th>PassengerId</th>\n",
       "      <th></th>\n",
       "      <th></th>\n",
       "      <th></th>\n",
       "      <th></th>\n",
       "      <th></th>\n",
       "      <th></th>\n",
       "    </tr>\n",
       "  </thead>\n",
       "  <tbody>\n",
       "    <tr>\n",
       "      <th>1</th>\n",
       "      <td>-0.554642</td>\n",
       "      <td>1</td>\n",
       "      <td>0</td>\n",
       "      <td>-0.502445</td>\n",
       "      <td>0.070759</td>\n",
       "      <td>6</td>\n",
       "    </tr>\n",
       "    <tr>\n",
       "      <th>2</th>\n",
       "      <td>0.624066</td>\n",
       "      <td>1</td>\n",
       "      <td>0</td>\n",
       "      <td>0.786845</td>\n",
       "      <td>-0.679791</td>\n",
       "      <td>1</td>\n",
       "    </tr>\n",
       "    <tr>\n",
       "      <th>3</th>\n",
       "      <td>-0.259965</td>\n",
       "      <td>0</td>\n",
       "      <td>0</td>\n",
       "      <td>-0.488854</td>\n",
       "      <td>0.521089</td>\n",
       "      <td>3</td>\n",
       "    </tr>\n",
       "    <tr>\n",
       "      <th>4</th>\n",
       "      <td>0.403058</td>\n",
       "      <td>1</td>\n",
       "      <td>0</td>\n",
       "      <td>0.420730</td>\n",
       "      <td>-0.829901</td>\n",
       "      <td>1</td>\n",
       "    </tr>\n",
       "    <tr>\n",
       "      <th>5</th>\n",
       "      <td>0.403058</td>\n",
       "      <td>0</td>\n",
       "      <td>0</td>\n",
       "      <td>-0.486337</td>\n",
       "      <td>0.971418</td>\n",
       "      <td>6</td>\n",
       "    </tr>\n",
       "    <tr>\n",
       "      <th>...</th>\n",
       "      <td>...</td>\n",
       "      <td>...</td>\n",
       "      <td>...</td>\n",
       "      <td>...</td>\n",
       "      <td>...</td>\n",
       "      <td>...</td>\n",
       "    </tr>\n",
       "    <tr>\n",
       "      <th>887</th>\n",
       "      <td>-0.186295</td>\n",
       "      <td>0</td>\n",
       "      <td>0</td>\n",
       "      <td>-0.386671</td>\n",
       "      <td>-0.229461</td>\n",
       "      <td>5</td>\n",
       "    </tr>\n",
       "    <tr>\n",
       "      <th>888</th>\n",
       "      <td>-0.775649</td>\n",
       "      <td>0</td>\n",
       "      <td>0</td>\n",
       "      <td>-0.044381</td>\n",
       "      <td>-1.280230</td>\n",
       "      <td>1</td>\n",
       "    </tr>\n",
       "    <tr>\n",
       "      <th>889</th>\n",
       "      <td>0.697735</td>\n",
       "      <td>1</td>\n",
       "      <td>2</td>\n",
       "      <td>-0.176263</td>\n",
       "      <td>1.421748</td>\n",
       "      <td>3</td>\n",
       "    </tr>\n",
       "    <tr>\n",
       "      <th>890</th>\n",
       "      <td>-0.259965</td>\n",
       "      <td>0</td>\n",
       "      <td>0</td>\n",
       "      <td>-0.044381</td>\n",
       "      <td>-0.980011</td>\n",
       "      <td>4</td>\n",
       "    </tr>\n",
       "    <tr>\n",
       "      <th>891</th>\n",
       "      <td>0.182051</td>\n",
       "      <td>0</td>\n",
       "      <td>0</td>\n",
       "      <td>-0.492378</td>\n",
       "      <td>0.971418</td>\n",
       "      <td>6</td>\n",
       "    </tr>\n",
       "  </tbody>\n",
       "</table>\n",
       "<p>891 rows × 6 columns</p>\n",
       "</div>"
      ],
      "text/plain": [
       "                  Age  SibSp  Parch      Fare  pclass_age  pclass_sex\n",
       "PassengerId                                                          \n",
       "1           -0.554642      1      0 -0.502445    0.070759           6\n",
       "2            0.624066      1      0  0.786845   -0.679791           1\n",
       "3           -0.259965      0      0 -0.488854    0.521089           3\n",
       "4            0.403058      1      0  0.420730   -0.829901           1\n",
       "5            0.403058      0      0 -0.486337    0.971418           6\n",
       "...               ...    ...    ...       ...         ...         ...\n",
       "887         -0.186295      0      0 -0.386671   -0.229461           5\n",
       "888         -0.775649      0      0 -0.044381   -1.280230           1\n",
       "889          0.697735      1      2 -0.176263    1.421748           3\n",
       "890         -0.259965      0      0 -0.044381   -0.980011           4\n",
       "891          0.182051      0      0 -0.492378    0.971418           6\n",
       "\n",
       "[891 rows x 6 columns]"
      ]
     },
     "execution_count": 130,
     "metadata": {},
     "output_type": "execute_result"
    }
   ],
   "source": [
    "data_without_pclass_and_sex"
   ]
  },
  {
   "cell_type": "code",
   "execution_count": 131,
   "id": "8e8fa6c4",
   "metadata": {},
   "outputs": [
    {
     "data": {
      "text/plain": [
       "[0.7800200866235641,\n",
       " 0.8159249262444291,\n",
       " 0.7721988575732848,\n",
       " 0.8148389931579938,\n",
       " 0.7912748728893353]"
      ]
     },
     "execution_count": 131,
     "metadata": {},
     "output_type": "execute_result"
    }
   ],
   "source": [
    "get_mean_scores(data_without_pclass_and_sex, target, predictors_1)"
   ]
  },
  {
   "cell_type": "code",
   "execution_count": 132,
   "id": "3f9dcd06",
   "metadata": {},
   "outputs": [
    {
     "data": {
      "image/png": "[encoded data removed]",
      "text/plain": [
       "<Figure size 432x288 with 2 Axes>"
      ]
     },
     "metadata": {
      "needs_background": "light"
     },
     "output_type": "display_data"
    }
   ],
   "source": [
    "importances_plot(data_without_pclass_and_sex, target, predictors)"
   ]
  },
  {
   "cell_type": "markdown",
   "id": "7d8f97a0",
   "metadata": {},
   "source": [
    "Seem to have gained performance within all classifiers"
   ]
  },
  {
   "cell_type": "markdown",
   "id": "36ef8938",
   "metadata": {},
   "source": [
    "#### Try: remove pclass_sex and keep others"
   ]
  },
  {
   "cell_type": "code",
   "execution_count": 133,
   "id": "940c86c9",
   "metadata": {},
   "outputs": [],
   "source": [
    "data_without_pclass_sex = data.copy()\n",
    "data_without_pclass_sex.drop(['pclass_sex'], axis=1, inplace=True)\n",
    "ss = StandardScaler()\n",
    "ss.fit(data_without_pclass_sex.loc[:,['Age','Fare','pclass_age']])\n",
    "data_without_pclass_sex.loc[:,['Age','Fare','pclass_age']] = ss.transform(data_without_pclass_sex.loc[:,['Age','Fare','pclass_age']])"
   ]
  },
  {
   "cell_type": "code",
   "execution_count": 134,
   "id": "218479e1",
   "metadata": {},
   "outputs": [
    {
     "data": {
      "text/html": [
       "<div>\n",
       "<style scoped>\n",
       "    .dataframe tbody tr th:only-of-type {\n",
       "        vertical-align: middle;\n",
       "    }\n",
       "\n",
       "    .dataframe tbody tr th {\n",
       "        vertical-align: top;\n",
       "    }\n",
       "\n",
       "    .dataframe thead th {\n",
       "        text-align: right;\n",
       "    }\n",
       "</style>\n",
       "<table border=\"1\" class=\"dataframe\">\n",
       "  <thead>\n",
       "    <tr style=\"text-align: right;\">\n",
       "      <th></th>\n",
       "      <th>Pclass</th>\n",
       "      <th>Sex</th>\n",
       "      <th>Age</th>\n",
       "      <th>SibSp</th>\n",
       "      <th>Parch</th>\n",
       "      <th>Fare</th>\n",
       "      <th>pclass_age</th>\n",
       "    </tr>\n",
       "    <tr>\n",
       "      <th>PassengerId</th>\n",
       "      <th></th>\n",
       "      <th></th>\n",
       "      <th></th>\n",
       "      <th></th>\n",
       "      <th></th>\n",
       "      <th></th>\n",
       "      <th></th>\n",
       "    </tr>\n",
       "  </thead>\n",
       "  <tbody>\n",
       "    <tr>\n",
       "      <th>1</th>\n",
       "      <td>3</td>\n",
       "      <td>0</td>\n",
       "      <td>-0.554642</td>\n",
       "      <td>1</td>\n",
       "      <td>0</td>\n",
       "      <td>-0.502445</td>\n",
       "      <td>0.070759</td>\n",
       "    </tr>\n",
       "    <tr>\n",
       "      <th>2</th>\n",
       "      <td>1</td>\n",
       "      <td>1</td>\n",
       "      <td>0.624066</td>\n",
       "      <td>1</td>\n",
       "      <td>0</td>\n",
       "      <td>0.786845</td>\n",
       "      <td>-0.679791</td>\n",
       "    </tr>\n",
       "    <tr>\n",
       "      <th>3</th>\n",
       "      <td>3</td>\n",
       "      <td>1</td>\n",
       "      <td>-0.259965</td>\n",
       "      <td>0</td>\n",
       "      <td>0</td>\n",
       "      <td>-0.488854</td>\n",
       "      <td>0.521089</td>\n",
       "    </tr>\n",
       "    <tr>\n",
       "      <th>4</th>\n",
       "      <td>1</td>\n",
       "      <td>1</td>\n",
       "      <td>0.403058</td>\n",
       "      <td>1</td>\n",
       "      <td>0</td>\n",
       "      <td>0.420730</td>\n",
       "      <td>-0.829901</td>\n",
       "    </tr>\n",
       "    <tr>\n",
       "      <th>5</th>\n",
       "      <td>3</td>\n",
       "      <td>0</td>\n",
       "      <td>0.403058</td>\n",
       "      <td>0</td>\n",
       "      <td>0</td>\n",
       "      <td>-0.486337</td>\n",
       "      <td>0.971418</td>\n",
       "    </tr>\n",
       "    <tr>\n",
       "      <th>...</th>\n",
       "      <td>...</td>\n",
       "      <td>...</td>\n",
       "      <td>...</td>\n",
       "      <td>...</td>\n",
       "      <td>...</td>\n",
       "      <td>...</td>\n",
       "      <td>...</td>\n",
       "    </tr>\n",
       "    <tr>\n",
       "      <th>887</th>\n",
       "      <td>2</td>\n",
       "      <td>0</td>\n",
       "      <td>-0.186295</td>\n",
       "      <td>0</td>\n",
       "      <td>0</td>\n",
       "      <td>-0.386671</td>\n",
       "      <td>-0.229461</td>\n",
       "    </tr>\n",
       "    <tr>\n",
       "      <th>888</th>\n",
       "      <td>1</td>\n",
       "      <td>1</td>\n",
       "      <td>-0.775649</td>\n",
       "      <td>0</td>\n",
       "      <td>0</td>\n",
       "      <td>-0.044381</td>\n",
       "      <td>-1.280230</td>\n",
       "    </tr>\n",
       "    <tr>\n",
       "      <th>889</th>\n",
       "      <td>3</td>\n",
       "      <td>1</td>\n",
       "      <td>0.697735</td>\n",
       "      <td>1</td>\n",
       "      <td>2</td>\n",
       "      <td>-0.176263</td>\n",
       "      <td>1.421748</td>\n",
       "    </tr>\n",
       "    <tr>\n",
       "      <th>890</th>\n",
       "      <td>1</td>\n",
       "      <td>0</td>\n",
       "      <td>-0.259965</td>\n",
       "      <td>0</td>\n",
       "      <td>0</td>\n",
       "      <td>-0.044381</td>\n",
       "      <td>-0.980011</td>\n",
       "    </tr>\n",
       "    <tr>\n",
       "      <th>891</th>\n",
       "      <td>3</td>\n",
       "      <td>0</td>\n",
       "      <td>0.182051</td>\n",
       "      <td>0</td>\n",
       "      <td>0</td>\n",
       "      <td>-0.492378</td>\n",
       "      <td>0.971418</td>\n",
       "    </tr>\n",
       "  </tbody>\n",
       "</table>\n",
       "<p>891 rows × 7 columns</p>\n",
       "</div>"
      ],
      "text/plain": [
       "             Pclass  Sex       Age  SibSp  Parch      Fare  pclass_age\n",
       "PassengerId                                                           \n",
       "1                 3    0 -0.554642      1      0 -0.502445    0.070759\n",
       "2                 1    1  0.624066      1      0  0.786845   -0.679791\n",
       "3                 3    1 -0.259965      0      0 -0.488854    0.521089\n",
       "4                 1    1  0.403058      1      0  0.420730   -0.829901\n",
       "5                 3    0  0.403058      0      0 -0.486337    0.971418\n",
       "...             ...  ...       ...    ...    ...       ...         ...\n",
       "887               2    0 -0.186295      0      0 -0.386671   -0.229461\n",
       "888               1    1 -0.775649      0      0 -0.044381   -1.280230\n",
       "889               3    1  0.697735      1      2 -0.176263    1.421748\n",
       "890               1    0 -0.259965      0      0 -0.044381   -0.980011\n",
       "891               3    0  0.182051      0      0 -0.492378    0.971418\n",
       "\n",
       "[891 rows x 7 columns]"
      ]
     },
     "execution_count": 134,
     "metadata": {},
     "output_type": "execute_result"
    }
   ],
   "source": [
    "data_without_pclass_sex"
   ]
  },
  {
   "cell_type": "code",
   "execution_count": 135,
   "id": "23687ffe",
   "metadata": {},
   "outputs": [
    {
     "data": {
      "text/plain": [
       "[0.7822672776348,\n",
       " 0.824913690289373,\n",
       " 0.7677233067604041,\n",
       " 0.8047329106772958,\n",
       " 0.7766995166656205]"
      ]
     },
     "execution_count": 135,
     "metadata": {},
     "output_type": "execute_result"
    }
   ],
   "source": [
    "get_mean_scores(data_without_pclass_sex, target, predictors_1)"
   ]
  },
  {
   "cell_type": "code",
   "execution_count": 136,
   "id": "b1523367",
   "metadata": {},
   "outputs": [
    {
     "data": {
      "image/png": "[encoded data removed]",
      "text/plain": [
       "<Figure size 432x288 with 2 Axes>"
      ]
     },
     "metadata": {
      "needs_background": "light"
     },
     "output_type": "display_data"
    }
   ],
   "source": [
    "importances_plot(data_without_pclass_sex, target, predictors)"
   ]
  },
  {
   "cell_type": "markdown",
   "id": "cf11c2dd",
   "metadata": {},
   "source": [
    "Seem to have gained performance too, but slight better"
   ]
  },
  {
   "cell_type": "markdown",
   "id": "6cf87315",
   "metadata": {},
   "source": [
    "### Dropping pclass_sex\n",
    "as it seem to lower the score"
   ]
  },
  {
   "cell_type": "code",
   "execution_count": 137,
   "id": "3640183d",
   "metadata": {},
   "outputs": [],
   "source": [
    "data.drop(['pclass_sex'],axis=1, inplace=True)"
   ]
  },
  {
   "cell_type": "markdown",
   "id": "5b7847e5",
   "metadata": {},
   "source": [
    "#### Try: remove Parch"
   ]
  },
  {
   "cell_type": "code",
   "execution_count": 138,
   "id": "d6b38e61",
   "metadata": {},
   "outputs": [],
   "source": [
    "data_without_parch = data.copy()\n",
    "data_without_parch.drop(['Parch'], axis=1, inplace=True)\n",
    "ss = StandardScaler()\n",
    "ss.fit(data_without_parch.loc[:,['Age','Fare','pclass_age']])\n",
    "data_without_parch.loc[:,['Age','Fare','pclass_age']] = ss.transform(data_without_parch.loc[:,['Age','Fare','pclass_age']])"
   ]
  },
  {
   "cell_type": "code",
   "execution_count": 139,
   "id": "7dd85b5b",
   "metadata": {},
   "outputs": [
    {
     "data": {
      "text/plain": [
       "[0.7845081915761722,\n",
       " 0.8148013307388112,\n",
       " 0.7654886698888959,\n",
       " 0.8058753373925052,\n",
       " 0.7823237712635741]"
      ]
     },
     "execution_count": 139,
     "metadata": {},
     "output_type": "execute_result"
    }
   ],
   "source": [
    "get_mean_scores(data_without_parch, target, predictors_1)"
   ]
  },
  {
   "cell_type": "code",
   "execution_count": 140,
   "id": "efbd9269",
   "metadata": {},
   "outputs": [
    {
     "data": {
      "image/png": "[encoded data removed]",
      "text/plain": [
       "<Figure size 432x288 with 2 Axes>"
      ]
     },
     "metadata": {
      "needs_background": "light"
     },
     "output_type": "display_data"
    }
   ],
   "source": [
    "importances_plot(data_without_parch, target, predictors)"
   ]
  },
  {
   "cell_type": "markdown",
   "id": "f1044c79",
   "metadata": {},
   "source": [
    "No visible effect, some tries performed better, others worse, decision: remove to emphasize the most important features"
   ]
  },
  {
   "cell_type": "markdown",
   "id": "18031707",
   "metadata": {},
   "source": [
    "### Dropping Parch\n",
    "as it seem to improve the score"
   ]
  },
  {
   "cell_type": "markdown",
   "id": "5ab6a24f",
   "metadata": {},
   "source": [
    "#### Try: remove SibSp"
   ]
  },
  {
   "cell_type": "code",
   "execution_count": 185,
   "id": "3e5a533c",
   "metadata": {},
   "outputs": [],
   "source": [
    "data_without_sibsp = data.copy()\n",
    "data_without_sibsp.drop(['SibSp'], axis=1, inplace=True)\n",
    "ss = StandardScaler()\n",
    "ss.fit(data_without_sibsp.loc[:,['Age','Fare','pclass_age']])\n",
    "data_without_sibsp.loc[:,['Age','Fare','pclass_age']] = ss.transform(data_without_sibsp.loc[:,['Age','Fare','pclass_age']])"
   ]
  },
  {
   "cell_type": "code",
   "execution_count": 188,
   "id": "56dc43b3",
   "metadata": {},
   "outputs": [
    {
     "data": {
      "text/plain": [
       "[0.7822672776348001,\n",
       " 0.7946393823363254,\n",
       " 0.76660598832465,\n",
       " 0.8171112924486849,\n",
       " 0.7733412842884941]"
      ]
     },
     "execution_count": 188,
     "metadata": {},
     "output_type": "execute_result"
    }
   ],
   "source": [
    "get_mean_scores(data_without_sibsp, target, predictors_1)"
   ]
  },
  {
   "cell_type": "code",
   "execution_count": 190,
   "id": "7631da5c",
   "metadata": {},
   "outputs": [
    {
     "data": {
      "image/png": "[encoded data removed]",
      "text/plain": [
       "<Figure size 432x288 with 2 Axes>"
      ]
     },
     "metadata": {
      "needs_background": "light"
     },
     "output_type": "display_data"
    }
   ],
   "source": [
    "importances_plot(data_without_sibsp, target, predictors)"
   ]
  },
  {
   "cell_type": "markdown",
   "id": "5fa2826d",
   "metadata": {},
   "source": [
    "Worse results: keeping it"
   ]
  },
  {
   "cell_type": "markdown",
   "id": "e95be629",
   "metadata": {},
   "source": [
    "### Try: remove pclass_age"
   ]
  },
  {
   "cell_type": "code",
   "execution_count": 192,
   "id": "73d00c5a",
   "metadata": {},
   "outputs": [],
   "source": [
    "data_without_pclass_age = data.copy()\n",
    "data_without_pclass_age.drop(['pclass_age'], axis=1, inplace=True)\n",
    "ss = StandardScaler()\n",
    "ss.fit(data_without_pclass_age.loc[:,['Age','Fare']])\n",
    "data_without_pclass_age.loc[:,['Age','Fare']] = ss.transform(data_without_pclass_age.loc[:,['Age','Fare']])"
   ]
  },
  {
   "cell_type": "code",
   "execution_count": 195,
   "id": "35a4aede",
   "metadata": {},
   "outputs": [
    {
     "data": {
      "text/plain": [
       "[0.7833783190006904,\n",
       " 0.8091833532107211,\n",
       " 0.7767309020149394,\n",
       " 0.8171112924486849,\n",
       " 0.7834159814198733]"
      ]
     },
     "execution_count": 195,
     "metadata": {},
     "output_type": "execute_result"
    }
   ],
   "source": [
    "get_mean_scores(data_without_pclass_age, target, predictors_1)"
   ]
  },
  {
   "cell_type": "code",
   "execution_count": 194,
   "id": "8fd6267c",
   "metadata": {},
   "outputs": [
    {
     "data": {
      "image/png": "[encoded data removed]",
      "text/plain": [
       "<Figure size 432x288 with 2 Axes>"
      ]
     },
     "metadata": {
      "needs_background": "light"
     },
     "output_type": "display_data"
    }
   ],
   "source": [
    "importances_plot(data_without_pclass_age, target, predictors)"
   ]
  },
  {
   "cell_type": "markdown",
   "id": "c9ff46c6",
   "metadata": {},
   "source": [
    "Results worse: keeping it"
   ]
  },
  {
   "cell_type": "code",
   "execution_count": 197,
   "id": "c26bcf82",
   "metadata": {},
   "outputs": [
    {
     "name": "stdout",
     "output_type": "stream",
     "text": [
      "<class 'pandas.core.frame.DataFrame'>\n",
      "Int64Index: 891 entries, 1 to 891\n",
      "Data columns (total 6 columns):\n",
      " #   Column      Non-Null Count  Dtype  \n",
      "---  ------      --------------  -----  \n",
      " 0   Pclass      891 non-null    int64  \n",
      " 1   Sex         891 non-null    int64  \n",
      " 2   Age         891 non-null    float64\n",
      " 3   SibSp       891 non-null    int64  \n",
      " 4   Fare        891 non-null    float64\n",
      " 5   pclass_age  891 non-null    int64  \n",
      "dtypes: float64(2), int64(4)\n",
      "memory usage: 48.7 KB\n"
     ]
    }
   ],
   "source": [
    "data.info()"
   ]
  },
  {
   "cell_type": "markdown",
   "id": "86e62206",
   "metadata": {},
   "source": [
    "# Conclusion\n",
    "### Keeping:\n",
    "Pclass\n",
    "\n",
    "Sex\n",
    "\n",
    "Age - filling with same mean and std\n",
    "\n",
    "SibSp\n",
    "\n",
    "Fare\n",
    "\n",
    "pclass_age\n",
    "### Stages\n",
    "Fill missing Age values\n",
    "\n",
    "Standard Scale for Age, Fare and pclass_age\n",
    "\n",
    "Train and optimize with SVC and Random Forest, to get best prediction"
   ]
  },
  {
   "cell_type": "code",
   "execution_count": null,
   "id": "8da4ee25",
   "metadata": {},
   "outputs": [],
   "source": []
  }
 ],
 "metadata": {
  "kernelspec": {
   "display_name": "Python 3 (ipykernel)",
   "language": "python",
   "name": "python3"
  },
  "language_info": {
   "codemirror_mode": {
    "name": "ipython",
    "version": 3
   },
   "file_extension": ".py",
   "mimetype": "text/x-python",
   "name": "python",
   "nbconvert_exporter": "python",
   "pygments_lexer": "ipython3",
   "version": "3.7.11"
  }
 },
 "nbformat": 4,
 "nbformat_minor": 5
}
